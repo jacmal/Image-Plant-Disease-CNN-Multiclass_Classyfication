{
  "cells": [
    {
      "cell_type": "markdown",
      "metadata": {
        "id": "view-in-github",
        "colab_type": "text"
      },
      "source": [
        "<a href=\"https://colab.research.google.com/github/jacmal/ML_Image-Plant-Disease-CNN-Multiclass_Classyfication/blob/main/CNN_Plant_Pathology_unbalanced.ipynb\" target=\"_parent\"><img src=\"https://colab.research.google.com/assets/colab-badge.svg\" alt=\"Open In Colab\"/></a>"
      ]
    },
    {
      "cell_type": "markdown",
      "metadata": {
        "id": "Nh6Ay9Kb7bGy"
      },
      "source": [
        "# Importing libraries"
      ]
    },
    {
      "cell_type": "code",
      "execution_count": 1,
      "metadata": {
        "id": "IyGOZ0mp7Ck2"
      },
      "outputs": [],
      "source": [
        "import os\n",
        "import glob\n",
        "import numpy as np\n",
        "import pandas as pd\n",
        "\n",
        "import random\n",
        "import shutil\n",
        "import matplotlib.pyplot as plt\n",
        "import plotly.express as px\n",
        "\n",
        "import tensorflow as tf\n",
        "from tensorflow.keras import layers\n",
        "from keras.preprocessing import image\n",
        "from tensorflow.keras.optimizers import Adam\n",
        "\n",
        "from tensorflow.keras.models import Sequential\n",
        "from tensorflow.keras.layers import Dense, Conv2D, Flatten, Dropout, MaxPooling2D, BatchNormalization\n",
        "from tensorflow.keras.preprocessing.image import ImageDataGenerator\n",
        "from keras import backend as K\n",
        "\n",
        "#from sklearn.metrics import f1_score, confusion_matrix\n",
        "from sklearn.model_selection import train_test_split\n",
        "from sklearn.metrics import ConfusionMatrixDisplay"
      ]
    },
    {
      "cell_type": "code",
      "execution_count": 2,
      "metadata": {
        "id": "vBdCJuIxUcXA"
      },
      "outputs": [],
      "source": [
        "pd.options.mode.chained_assignment = None"
      ]
    },
    {
      "cell_type": "markdown",
      "metadata": {
        "id": "Gb-0QylW-Gq4"
      },
      "source": [
        "# Data Preprocessing"
      ]
    },
    {
      "cell_type": "code",
      "execution_count": 3,
      "metadata": {
        "id": "LL7KQs5r-E_Z"
      },
      "outputs": [],
      "source": [
        "# dataset folder path\n",
        "folders_path = '/content/drive/MyDrive/Datasets/Plant Pathology 2020 - FGVC7/images'"
      ]
    },
    {
      "cell_type": "code",
      "execution_count": 4,
      "metadata": {
        "colab": {
          "base_uri": "https://localhost:8080/"
        },
        "id": "xixWakOS-PiB",
        "outputId": "f3e49d9f-2f63-4d0a-856a-37515030a193"
      },
      "outputs": [
        {
          "output_type": "stream",
          "name": "stdout",
          "text": [
            "['Train_1729.jpg', 'Train_1761.jpg', 'Train_1715.jpg', 'Train_1740.jpg', 'Train_1720.jpg']\n"
          ]
        }
      ],
      "source": [
        "# list of all files in dataset folder\n",
        "f_list = os.listdir(folders_path)\n",
        "print(f_list[:5])"
      ]
    },
    {
      "cell_type": "code",
      "execution_count": 5,
      "metadata": {
        "colab": {
          "base_uri": "https://localhost:8080/"
        },
        "id": "5v-KE6Ik-0Ro",
        "outputId": "4decffe9-ecc8-4481-fcfd-8934171281b7"
      },
      "outputs": [
        {
          "output_type": "stream",
          "name": "stdout",
          "text": [
            "All images:  1821\n"
          ]
        }
      ],
      "source": [
        "# list of all image files\n",
        "all_images = list(filter(lambda f: True if f[-4:] == '.jpg' and f[:5] == 'Train' else False, f_list))\n",
        "print('All images: ', len(all_images))"
      ]
    },
    {
      "cell_type": "code",
      "execution_count": 6,
      "metadata": {
        "colab": {
          "base_uri": "https://localhost:8080/",
          "height": 143
        },
        "id": "3_fgi42OAXkq",
        "outputId": "6a8e3991-e99e-4e87-fa1f-7510617a1ffc"
      },
      "outputs": [
        {
          "output_type": "execute_result",
          "data": {
            "text/plain": [
              "  image_id  healthy  multiple_diseases  rust  scab\n",
              "0  Train_0        0                  0     0     1\n",
              "1  Train_1        0                  1     0     0\n",
              "2  Train_2        1                  0     0     0"
            ],
            "text/html": [
              "\n",
              "  <div id=\"df-a35ee2e3-8f94-4a26-a7e7-5d109888fdf1\">\n",
              "    <div class=\"colab-df-container\">\n",
              "      <div>\n",
              "<style scoped>\n",
              "    .dataframe tbody tr th:only-of-type {\n",
              "        vertical-align: middle;\n",
              "    }\n",
              "\n",
              "    .dataframe tbody tr th {\n",
              "        vertical-align: top;\n",
              "    }\n",
              "\n",
              "    .dataframe thead th {\n",
              "        text-align: right;\n",
              "    }\n",
              "</style>\n",
              "<table border=\"1\" class=\"dataframe\">\n",
              "  <thead>\n",
              "    <tr style=\"text-align: right;\">\n",
              "      <th></th>\n",
              "      <th>image_id</th>\n",
              "      <th>healthy</th>\n",
              "      <th>multiple_diseases</th>\n",
              "      <th>rust</th>\n",
              "      <th>scab</th>\n",
              "    </tr>\n",
              "  </thead>\n",
              "  <tbody>\n",
              "    <tr>\n",
              "      <th>0</th>\n",
              "      <td>Train_0</td>\n",
              "      <td>0</td>\n",
              "      <td>0</td>\n",
              "      <td>0</td>\n",
              "      <td>1</td>\n",
              "    </tr>\n",
              "    <tr>\n",
              "      <th>1</th>\n",
              "      <td>Train_1</td>\n",
              "      <td>0</td>\n",
              "      <td>1</td>\n",
              "      <td>0</td>\n",
              "      <td>0</td>\n",
              "    </tr>\n",
              "    <tr>\n",
              "      <th>2</th>\n",
              "      <td>Train_2</td>\n",
              "      <td>1</td>\n",
              "      <td>0</td>\n",
              "      <td>0</td>\n",
              "      <td>0</td>\n",
              "    </tr>\n",
              "  </tbody>\n",
              "</table>\n",
              "</div>\n",
              "      <button class=\"colab-df-convert\" onclick=\"convertToInteractive('df-a35ee2e3-8f94-4a26-a7e7-5d109888fdf1')\"\n",
              "              title=\"Convert this dataframe to an interactive table.\"\n",
              "              style=\"display:none;\">\n",
              "        \n",
              "  <svg xmlns=\"http://www.w3.org/2000/svg\" height=\"24px\"viewBox=\"0 0 24 24\"\n",
              "       width=\"24px\">\n",
              "    <path d=\"M0 0h24v24H0V0z\" fill=\"none\"/>\n",
              "    <path d=\"M18.56 5.44l.94 2.06.94-2.06 2.06-.94-2.06-.94-.94-2.06-.94 2.06-2.06.94zm-11 1L8.5 8.5l.94-2.06 2.06-.94-2.06-.94L8.5 2.5l-.94 2.06-2.06.94zm10 10l.94 2.06.94-2.06 2.06-.94-2.06-.94-.94-2.06-.94 2.06-2.06.94z\"/><path d=\"M17.41 7.96l-1.37-1.37c-.4-.4-.92-.59-1.43-.59-.52 0-1.04.2-1.43.59L10.3 9.45l-7.72 7.72c-.78.78-.78 2.05 0 2.83L4 21.41c.39.39.9.59 1.41.59.51 0 1.02-.2 1.41-.59l7.78-7.78 2.81-2.81c.8-.78.8-2.07 0-2.86zM5.41 20L4 18.59l7.72-7.72 1.47 1.35L5.41 20z\"/>\n",
              "  </svg>\n",
              "      </button>\n",
              "      \n",
              "  <style>\n",
              "    .colab-df-container {\n",
              "      display:flex;\n",
              "      flex-wrap:wrap;\n",
              "      gap: 12px;\n",
              "    }\n",
              "\n",
              "    .colab-df-convert {\n",
              "      background-color: #E8F0FE;\n",
              "      border: none;\n",
              "      border-radius: 50%;\n",
              "      cursor: pointer;\n",
              "      display: none;\n",
              "      fill: #1967D2;\n",
              "      height: 32px;\n",
              "      padding: 0 0 0 0;\n",
              "      width: 32px;\n",
              "    }\n",
              "\n",
              "    .colab-df-convert:hover {\n",
              "      background-color: #E2EBFA;\n",
              "      box-shadow: 0px 1px 2px rgba(60, 64, 67, 0.3), 0px 1px 3px 1px rgba(60, 64, 67, 0.15);\n",
              "      fill: #174EA6;\n",
              "    }\n",
              "\n",
              "    [theme=dark] .colab-df-convert {\n",
              "      background-color: #3B4455;\n",
              "      fill: #D2E3FC;\n",
              "    }\n",
              "\n",
              "    [theme=dark] .colab-df-convert:hover {\n",
              "      background-color: #434B5C;\n",
              "      box-shadow: 0px 1px 3px 1px rgba(0, 0, 0, 0.15);\n",
              "      filter: drop-shadow(0px 1px 2px rgba(0, 0, 0, 0.3));\n",
              "      fill: #FFFFFF;\n",
              "    }\n",
              "  </style>\n",
              "\n",
              "      <script>\n",
              "        const buttonEl =\n",
              "          document.querySelector('#df-a35ee2e3-8f94-4a26-a7e7-5d109888fdf1 button.colab-df-convert');\n",
              "        buttonEl.style.display =\n",
              "          google.colab.kernel.accessAllowed ? 'block' : 'none';\n",
              "\n",
              "        async function convertToInteractive(key) {\n",
              "          const element = document.querySelector('#df-a35ee2e3-8f94-4a26-a7e7-5d109888fdf1');\n",
              "          const dataTable =\n",
              "            await google.colab.kernel.invokeFunction('convertToInteractive',\n",
              "                                                     [key], {});\n",
              "          if (!dataTable) return;\n",
              "\n",
              "          const docLinkHtml = 'Like what you see? Visit the ' +\n",
              "            '<a target=\"_blank\" href=https://colab.research.google.com/notebooks/data_table.ipynb>data table notebook</a>'\n",
              "            + ' to learn more about interactive tables.';\n",
              "          element.innerHTML = '';\n",
              "          dataTable['output_type'] = 'display_data';\n",
              "          await google.colab.output.renderOutput(dataTable, element);\n",
              "          const docLink = document.createElement('div');\n",
              "          docLink.innerHTML = docLinkHtml;\n",
              "          element.appendChild(docLink);\n",
              "        }\n",
              "      </script>\n",
              "    </div>\n",
              "  </div>\n",
              "  "
            ]
          },
          "metadata": {},
          "execution_count": 6
        }
      ],
      "source": [
        "# load .csv file with image labels into DataFrame\n",
        "df = pd.read_csv('/content/drive/MyDrive/Datasets/Plant Pathology 2020 - FGVC7/train.csv')\n",
        "df.head(3)"
      ]
    },
    {
      "cell_type": "code",
      "execution_count": 7,
      "metadata": {
        "colab": {
          "base_uri": "https://localhost:8080/"
        },
        "id": "1JEIz_eROC6x",
        "outputId": "62d98369-f082-4184-f189-c48a06d1e950"
      },
      "outputs": [
        {
          "output_type": "stream",
          "name": "stdout",
          "text": [
            "['healthy', 'multiple_diseases', 'rust', 'scab']\n"
          ]
        }
      ],
      "source": [
        "# list of all image classes\n",
        "col_list = list(df.columns)[1:]\n",
        "print(col_list)"
      ]
    },
    {
      "cell_type": "code",
      "execution_count": 8,
      "metadata": {
        "colab": {
          "base_uri": "https://localhost:8080/",
          "height": 424
        },
        "id": "FDT-8L8kuzew",
        "outputId": "1cb1252c-6501-44b8-bdc3-0555f99e447b"
      },
      "outputs": [
        {
          "output_type": "execute_result",
          "data": {
            "text/plain": [
              "        image_id         text_label  num_label\n",
              "0        Train_0               scab          3\n",
              "1        Train_1  multiple_diseases          1\n",
              "2        Train_2            healthy          0\n",
              "3        Train_3               rust          2\n",
              "4        Train_4            healthy          0\n",
              "...          ...                ...        ...\n",
              "1816  Train_1816               scab          3\n",
              "1817  Train_1817            healthy          0\n",
              "1818  Train_1818            healthy          0\n",
              "1819  Train_1819               rust          2\n",
              "1820  Train_1820               scab          3\n",
              "\n",
              "[1821 rows x 3 columns]"
            ],
            "text/html": [
              "\n",
              "  <div id=\"df-7ec7330d-8e31-430f-9837-fcf19a6e48c3\">\n",
              "    <div class=\"colab-df-container\">\n",
              "      <div>\n",
              "<style scoped>\n",
              "    .dataframe tbody tr th:only-of-type {\n",
              "        vertical-align: middle;\n",
              "    }\n",
              "\n",
              "    .dataframe tbody tr th {\n",
              "        vertical-align: top;\n",
              "    }\n",
              "\n",
              "    .dataframe thead th {\n",
              "        text-align: right;\n",
              "    }\n",
              "</style>\n",
              "<table border=\"1\" class=\"dataframe\">\n",
              "  <thead>\n",
              "    <tr style=\"text-align: right;\">\n",
              "      <th></th>\n",
              "      <th>image_id</th>\n",
              "      <th>text_label</th>\n",
              "      <th>num_label</th>\n",
              "    </tr>\n",
              "  </thead>\n",
              "  <tbody>\n",
              "    <tr>\n",
              "      <th>0</th>\n",
              "      <td>Train_0</td>\n",
              "      <td>scab</td>\n",
              "      <td>3</td>\n",
              "    </tr>\n",
              "    <tr>\n",
              "      <th>1</th>\n",
              "      <td>Train_1</td>\n",
              "      <td>multiple_diseases</td>\n",
              "      <td>1</td>\n",
              "    </tr>\n",
              "    <tr>\n",
              "      <th>2</th>\n",
              "      <td>Train_2</td>\n",
              "      <td>healthy</td>\n",
              "      <td>0</td>\n",
              "    </tr>\n",
              "    <tr>\n",
              "      <th>3</th>\n",
              "      <td>Train_3</td>\n",
              "      <td>rust</td>\n",
              "      <td>2</td>\n",
              "    </tr>\n",
              "    <tr>\n",
              "      <th>4</th>\n",
              "      <td>Train_4</td>\n",
              "      <td>healthy</td>\n",
              "      <td>0</td>\n",
              "    </tr>\n",
              "    <tr>\n",
              "      <th>...</th>\n",
              "      <td>...</td>\n",
              "      <td>...</td>\n",
              "      <td>...</td>\n",
              "    </tr>\n",
              "    <tr>\n",
              "      <th>1816</th>\n",
              "      <td>Train_1816</td>\n",
              "      <td>scab</td>\n",
              "      <td>3</td>\n",
              "    </tr>\n",
              "    <tr>\n",
              "      <th>1817</th>\n",
              "      <td>Train_1817</td>\n",
              "      <td>healthy</td>\n",
              "      <td>0</td>\n",
              "    </tr>\n",
              "    <tr>\n",
              "      <th>1818</th>\n",
              "      <td>Train_1818</td>\n",
              "      <td>healthy</td>\n",
              "      <td>0</td>\n",
              "    </tr>\n",
              "    <tr>\n",
              "      <th>1819</th>\n",
              "      <td>Train_1819</td>\n",
              "      <td>rust</td>\n",
              "      <td>2</td>\n",
              "    </tr>\n",
              "    <tr>\n",
              "      <th>1820</th>\n",
              "      <td>Train_1820</td>\n",
              "      <td>scab</td>\n",
              "      <td>3</td>\n",
              "    </tr>\n",
              "  </tbody>\n",
              "</table>\n",
              "<p>1821 rows × 3 columns</p>\n",
              "</div>\n",
              "      <button class=\"colab-df-convert\" onclick=\"convertToInteractive('df-7ec7330d-8e31-430f-9837-fcf19a6e48c3')\"\n",
              "              title=\"Convert this dataframe to an interactive table.\"\n",
              "              style=\"display:none;\">\n",
              "        \n",
              "  <svg xmlns=\"http://www.w3.org/2000/svg\" height=\"24px\"viewBox=\"0 0 24 24\"\n",
              "       width=\"24px\">\n",
              "    <path d=\"M0 0h24v24H0V0z\" fill=\"none\"/>\n",
              "    <path d=\"M18.56 5.44l.94 2.06.94-2.06 2.06-.94-2.06-.94-.94-2.06-.94 2.06-2.06.94zm-11 1L8.5 8.5l.94-2.06 2.06-.94-2.06-.94L8.5 2.5l-.94 2.06-2.06.94zm10 10l.94 2.06.94-2.06 2.06-.94-2.06-.94-.94-2.06-.94 2.06-2.06.94z\"/><path d=\"M17.41 7.96l-1.37-1.37c-.4-.4-.92-.59-1.43-.59-.52 0-1.04.2-1.43.59L10.3 9.45l-7.72 7.72c-.78.78-.78 2.05 0 2.83L4 21.41c.39.39.9.59 1.41.59.51 0 1.02-.2 1.41-.59l7.78-7.78 2.81-2.81c.8-.78.8-2.07 0-2.86zM5.41 20L4 18.59l7.72-7.72 1.47 1.35L5.41 20z\"/>\n",
              "  </svg>\n",
              "      </button>\n",
              "      \n",
              "  <style>\n",
              "    .colab-df-container {\n",
              "      display:flex;\n",
              "      flex-wrap:wrap;\n",
              "      gap: 12px;\n",
              "    }\n",
              "\n",
              "    .colab-df-convert {\n",
              "      background-color: #E8F0FE;\n",
              "      border: none;\n",
              "      border-radius: 50%;\n",
              "      cursor: pointer;\n",
              "      display: none;\n",
              "      fill: #1967D2;\n",
              "      height: 32px;\n",
              "      padding: 0 0 0 0;\n",
              "      width: 32px;\n",
              "    }\n",
              "\n",
              "    .colab-df-convert:hover {\n",
              "      background-color: #E2EBFA;\n",
              "      box-shadow: 0px 1px 2px rgba(60, 64, 67, 0.3), 0px 1px 3px 1px rgba(60, 64, 67, 0.15);\n",
              "      fill: #174EA6;\n",
              "    }\n",
              "\n",
              "    [theme=dark] .colab-df-convert {\n",
              "      background-color: #3B4455;\n",
              "      fill: #D2E3FC;\n",
              "    }\n",
              "\n",
              "    [theme=dark] .colab-df-convert:hover {\n",
              "      background-color: #434B5C;\n",
              "      box-shadow: 0px 1px 3px 1px rgba(0, 0, 0, 0.15);\n",
              "      filter: drop-shadow(0px 1px 2px rgba(0, 0, 0, 0.3));\n",
              "      fill: #FFFFFF;\n",
              "    }\n",
              "  </style>\n",
              "\n",
              "      <script>\n",
              "        const buttonEl =\n",
              "          document.querySelector('#df-7ec7330d-8e31-430f-9837-fcf19a6e48c3 button.colab-df-convert');\n",
              "        buttonEl.style.display =\n",
              "          google.colab.kernel.accessAllowed ? 'block' : 'none';\n",
              "\n",
              "        async function convertToInteractive(key) {\n",
              "          const element = document.querySelector('#df-7ec7330d-8e31-430f-9837-fcf19a6e48c3');\n",
              "          const dataTable =\n",
              "            await google.colab.kernel.invokeFunction('convertToInteractive',\n",
              "                                                     [key], {});\n",
              "          if (!dataTable) return;\n",
              "\n",
              "          const docLinkHtml = 'Like what you see? Visit the ' +\n",
              "            '<a target=\"_blank\" href=https://colab.research.google.com/notebooks/data_table.ipynb>data table notebook</a>'\n",
              "            + ' to learn more about interactive tables.';\n",
              "          element.innerHTML = '';\n",
              "          dataTable['output_type'] = 'display_data';\n",
              "          await google.colab.output.renderOutput(dataTable, element);\n",
              "          const docLink = document.createElement('div');\n",
              "          docLink.innerHTML = docLinkHtml;\n",
              "          element.appendChild(docLink);\n",
              "        }\n",
              "      </script>\n",
              "    </div>\n",
              "  </div>\n",
              "  "
            ]
          },
          "metadata": {},
          "execution_count": 8
        }
      ],
      "source": [
        "# create numerical and text labels\n",
        "text_l = []\n",
        "num_l = []\n",
        "\n",
        "for i in range(len(df)):\n",
        "  for col_name in col_list:\n",
        "    if df[col_name].loc[i] == 1:\n",
        "      text_l.append(col_name)\n",
        "      num_l.append(col_list.index(col_name))\n",
        "\n",
        "df_labels = pd.DataFrame({'image_id': df['image_id'], 'text_label': text_l, 'num_label': num_l})\n",
        "df_labels"
      ]
    },
    {
      "cell_type": "markdown",
      "metadata": {
        "id": "XAfnW70T7kE4"
      },
      "source": [
        "## Data set analysis"
      ]
    },
    {
      "cell_type": "code",
      "execution_count": 9,
      "metadata": {
        "colab": {
          "base_uri": "https://localhost:8080/",
          "height": 542
        },
        "id": "w7GEblO0V0Yi",
        "outputId": "62921a1e-249e-40bb-c66f-0b46c4a1df3a"
      },
      "outputs": [
        {
          "output_type": "display_data",
          "data": {
            "text/html": [
              "<html>\n",
              "<head><meta charset=\"utf-8\" /></head>\n",
              "<body>\n",
              "    <div>            <script src=\"https://cdnjs.cloudflare.com/ajax/libs/mathjax/2.7.5/MathJax.js?config=TeX-AMS-MML_SVG\"></script><script type=\"text/javascript\">if (window.MathJax) {MathJax.Hub.Config({SVG: {font: \"STIX-Web\"}});}</script>                <script type=\"text/javascript\">window.PlotlyConfig = {MathJaxConfig: 'local'};</script>\n",
              "        <script src=\"https://cdn.plot.ly/plotly-2.8.3.min.js\"></script>                <div id=\"ca4c4242-e585-4966-97ab-4ea34d3c30d6\" class=\"plotly-graph-div\" style=\"height:525px; width:100%;\"></div>            <script type=\"text/javascript\">                                    window.PLOTLYENV=window.PLOTLYENV || {};                                    if (document.getElementById(\"ca4c4242-e585-4966-97ab-4ea34d3c30d6\")) {                    Plotly.newPlot(                        \"ca4c4242-e585-4966-97ab-4ea34d3c30d6\",                        [{\"alignmentgroup\":\"True\",\"bingroup\":\"x\",\"hovertemplate\":\"text_label=%{x}<br>count=%{y}<extra></extra>\",\"legendgroup\":\"\",\"marker\":{\"color\":\"#636efa\",\"pattern\":{\"shape\":\"\"}},\"name\":\"\",\"offsetgroup\":\"\",\"orientation\":\"v\",\"showlegend\":false,\"x\":[\"scab\",\"multiple_diseases\",\"healthy\",\"rust\",\"healthy\",\"healthy\",\"multiple_diseases\",\"scab\",\"scab\",\"healthy\",\"rust\",\"scab\",\"scab\",\"healthy\",\"rust\",\"rust\",\"scab\",\"scab\",\"healthy\",\"scab\",\"scab\",\"rust\",\"scab\",\"rust\",\"healthy\",\"multiple_diseases\",\"rust\",\"scab\",\"scab\",\"scab\",\"scab\",\"rust\",\"scab\",\"healthy\",\"rust\",\"rust\",\"multiple_diseases\",\"rust\",\"rust\",\"rust\",\"scab\",\"scab\",\"scab\",\"healthy\",\"scab\",\"rust\",\"healthy\",\"rust\",\"scab\",\"scab\",\"rust\",\"scab\",\"scab\",\"healthy\",\"healthy\",\"healthy\",\"scab\",\"rust\",\"rust\",\"rust\",\"rust\",\"scab\",\"multiple_diseases\",\"healthy\",\"rust\",\"scab\",\"healthy\",\"healthy\",\"healthy\",\"rust\",\"healthy\",\"rust\",\"healthy\",\"scab\",\"multiple_diseases\",\"rust\",\"scab\",\"healthy\",\"scab\",\"scab\",\"scab\",\"rust\",\"rust\",\"scab\",\"scab\",\"scab\",\"healthy\",\"rust\",\"healthy\",\"rust\",\"healthy\",\"scab\",\"rust\",\"rust\",\"healthy\",\"multiple_diseases\",\"rust\",\"rust\",\"rust\",\"healthy\",\"healthy\",\"scab\",\"rust\",\"healthy\",\"multiple_diseases\",\"healthy\",\"scab\",\"scab\",\"rust\",\"rust\",\"scab\",\"healthy\",\"scab\",\"multiple_diseases\",\"rust\",\"rust\",\"scab\",\"rust\",\"rust\",\"scab\",\"rust\",\"rust\",\"multiple_diseases\",\"healthy\",\"rust\",\"scab\",\"rust\",\"scab\",\"multiple_diseases\",\"rust\",\"scab\",\"rust\",\"rust\",\"rust\",\"healthy\",\"healthy\",\"healthy\",\"healthy\",\"scab\",\"rust\",\"scab\",\"rust\",\"scab\",\"scab\",\"healthy\",\"scab\",\"healthy\",\"scab\",\"rust\",\"scab\",\"scab\",\"healthy\",\"scab\",\"scab\",\"scab\",\"scab\",\"rust\",\"rust\",\"scab\",\"rust\",\"scab\",\"scab\",\"healthy\",\"scab\",\"rust\",\"rust\",\"scab\",\"healthy\",\"scab\",\"scab\",\"multiple_diseases\",\"rust\",\"scab\",\"scab\",\"healthy\",\"healthy\",\"scab\",\"scab\",\"rust\",\"healthy\",\"multiple_diseases\",\"rust\",\"scab\",\"rust\",\"rust\",\"scab\",\"scab\",\"rust\",\"rust\",\"scab\",\"scab\",\"scab\",\"scab\",\"rust\",\"rust\",\"healthy\",\"scab\",\"scab\",\"healthy\",\"healthy\",\"scab\",\"healthy\",\"rust\",\"scab\",\"scab\",\"rust\",\"rust\",\"scab\",\"rust\",\"scab\",\"scab\",\"scab\",\"rust\",\"healthy\",\"scab\",\"healthy\",\"scab\",\"scab\",\"rust\",\"healthy\",\"healthy\",\"healthy\",\"scab\",\"rust\",\"healthy\",\"rust\",\"rust\",\"healthy\",\"rust\",\"scab\",\"scab\",\"multiple_diseases\",\"scab\",\"rust\",\"scab\",\"scab\",\"rust\",\"multiple_diseases\",\"healthy\",\"scab\",\"rust\",\"rust\",\"scab\",\"scab\",\"rust\",\"multiple_diseases\",\"healthy\",\"healthy\",\"healthy\",\"healthy\",\"scab\",\"scab\",\"scab\",\"scab\",\"rust\",\"scab\",\"scab\",\"healthy\",\"scab\",\"rust\",\"scab\",\"healthy\",\"scab\",\"healthy\",\"healthy\",\"healthy\",\"healthy\",\"scab\",\"scab\",\"rust\",\"scab\",\"healthy\",\"scab\",\"healthy\",\"rust\",\"rust\",\"scab\",\"rust\",\"healthy\",\"rust\",\"scab\",\"scab\",\"healthy\",\"scab\",\"rust\",\"rust\",\"rust\",\"healthy\",\"rust\",\"rust\",\"scab\",\"healthy\",\"scab\",\"scab\",\"rust\",\"healthy\",\"scab\",\"scab\",\"healthy\",\"rust\",\"healthy\",\"rust\",\"rust\",\"scab\",\"healthy\",\"scab\",\"multiple_diseases\",\"healthy\",\"scab\",\"scab\",\"scab\",\"healthy\",\"scab\",\"rust\",\"rust\",\"scab\",\"scab\",\"healthy\",\"rust\",\"scab\",\"healthy\",\"rust\",\"rust\",\"rust\",\"scab\",\"scab\",\"scab\",\"rust\",\"rust\",\"healthy\",\"healthy\",\"rust\",\"scab\",\"rust\",\"rust\",\"healthy\",\"multiple_diseases\",\"healthy\",\"multiple_diseases\",\"healthy\",\"rust\",\"rust\",\"rust\",\"scab\",\"rust\",\"rust\",\"rust\",\"rust\",\"healthy\",\"scab\",\"rust\",\"rust\",\"scab\",\"scab\",\"scab\",\"scab\",\"healthy\",\"healthy\",\"scab\",\"healthy\",\"healthy\",\"scab\",\"scab\",\"multiple_diseases\",\"scab\",\"healthy\",\"healthy\",\"healthy\",\"rust\",\"rust\",\"scab\",\"rust\",\"scab\",\"healthy\",\"scab\",\"healthy\",\"healthy\",\"scab\",\"healthy\",\"scab\",\"healthy\",\"scab\",\"scab\",\"healthy\",\"rust\",\"rust\",\"rust\",\"rust\",\"scab\",\"healthy\",\"rust\",\"multiple_diseases\",\"healthy\",\"healthy\",\"rust\",\"multiple_diseases\",\"healthy\",\"healthy\",\"scab\",\"multiple_diseases\",\"scab\",\"scab\",\"rust\",\"rust\",\"healthy\",\"healthy\",\"healthy\",\"healthy\",\"rust\",\"scab\",\"rust\",\"rust\",\"healthy\",\"rust\",\"scab\",\"healthy\",\"rust\",\"healthy\",\"multiple_diseases\",\"scab\",\"healthy\",\"healthy\",\"rust\",\"scab\",\"scab\",\"healthy\",\"rust\",\"healthy\",\"multiple_diseases\",\"scab\",\"healthy\",\"scab\",\"healthy\",\"healthy\",\"rust\",\"rust\",\"multiple_diseases\",\"scab\",\"healthy\",\"healthy\",\"rust\",\"rust\",\"scab\",\"healthy\",\"healthy\",\"rust\",\"healthy\",\"rust\",\"healthy\",\"scab\",\"healthy\",\"rust\",\"healthy\",\"rust\",\"scab\",\"rust\",\"rust\",\"scab\",\"rust\",\"scab\",\"healthy\",\"rust\",\"rust\",\"scab\",\"rust\",\"rust\",\"healthy\",\"rust\",\"rust\",\"rust\",\"scab\",\"scab\",\"rust\",\"scab\",\"healthy\",\"healthy\",\"healthy\",\"scab\",\"healthy\",\"rust\",\"multiple_diseases\",\"rust\",\"rust\",\"rust\",\"multiple_diseases\",\"rust\",\"rust\",\"rust\",\"healthy\",\"scab\",\"scab\",\"healthy\",\"rust\",\"multiple_diseases\",\"scab\",\"rust\",\"healthy\",\"rust\",\"scab\",\"rust\",\"rust\",\"rust\",\"healthy\",\"scab\",\"rust\",\"scab\",\"rust\",\"rust\",\"rust\",\"rust\",\"rust\",\"rust\",\"rust\",\"rust\",\"rust\",\"rust\",\"rust\",\"multiple_diseases\",\"rust\",\"rust\",\"scab\",\"scab\",\"rust\",\"rust\",\"scab\",\"healthy\",\"healthy\",\"scab\",\"scab\",\"healthy\",\"scab\",\"healthy\",\"healthy\",\"rust\",\"rust\",\"multiple_diseases\",\"rust\",\"healthy\",\"scab\",\"rust\",\"scab\",\"rust\",\"rust\",\"multiple_diseases\",\"healthy\",\"healthy\",\"healthy\",\"healthy\",\"scab\",\"rust\",\"healthy\",\"healthy\",\"scab\",\"rust\",\"rust\",\"scab\",\"scab\",\"rust\",\"healthy\",\"scab\",\"rust\",\"scab\",\"healthy\",\"multiple_diseases\",\"rust\",\"scab\",\"healthy\",\"rust\",\"scab\",\"healthy\",\"scab\",\"rust\",\"healthy\",\"healthy\",\"rust\",\"rust\",\"scab\",\"rust\",\"rust\",\"healthy\",\"rust\",\"scab\",\"rust\",\"scab\",\"rust\",\"rust\",\"rust\",\"healthy\",\"rust\",\"scab\",\"rust\",\"healthy\",\"healthy\",\"scab\",\"rust\",\"healthy\",\"rust\",\"healthy\",\"rust\",\"scab\",\"scab\",\"healthy\",\"multiple_diseases\",\"healthy\",\"scab\",\"healthy\",\"rust\",\"rust\",\"rust\",\"rust\",\"rust\",\"rust\",\"rust\",\"rust\",\"scab\",\"rust\",\"healthy\",\"scab\",\"healthy\",\"healthy\",\"rust\",\"healthy\",\"healthy\",\"rust\",\"scab\",\"scab\",\"healthy\",\"rust\",\"scab\",\"multiple_diseases\",\"healthy\",\"scab\",\"rust\",\"rust\",\"rust\",\"healthy\",\"scab\",\"healthy\",\"scab\",\"rust\",\"rust\",\"scab\",\"healthy\",\"rust\",\"healthy\",\"multiple_diseases\",\"healthy\",\"rust\",\"healthy\",\"scab\",\"healthy\",\"scab\",\"rust\",\"scab\",\"rust\",\"scab\",\"rust\",\"healthy\",\"scab\",\"scab\",\"healthy\",\"scab\",\"scab\",\"scab\",\"scab\",\"healthy\",\"rust\",\"rust\",\"rust\",\"scab\",\"rust\",\"healthy\",\"rust\",\"scab\",\"scab\",\"healthy\",\"healthy\",\"scab\",\"healthy\",\"healthy\",\"scab\",\"scab\",\"multiple_diseases\",\"rust\",\"healthy\",\"healthy\",\"scab\",\"rust\",\"scab\",\"rust\",\"rust\",\"healthy\",\"scab\",\"rust\",\"healthy\",\"rust\",\"scab\",\"rust\",\"scab\",\"scab\",\"rust\",\"healthy\",\"multiple_diseases\",\"healthy\",\"healthy\",\"rust\",\"rust\",\"rust\",\"scab\",\"scab\",\"healthy\",\"healthy\",\"rust\",\"scab\",\"rust\",\"rust\",\"scab\",\"scab\",\"rust\",\"rust\",\"healthy\",\"scab\",\"rust\",\"scab\",\"rust\",\"healthy\",\"rust\",\"scab\",\"rust\",\"scab\",\"healthy\",\"healthy\",\"multiple_diseases\",\"scab\",\"rust\",\"rust\",\"scab\",\"healthy\",\"rust\",\"rust\",\"scab\",\"rust\",\"rust\",\"rust\",\"rust\",\"rust\",\"healthy\",\"healthy\",\"scab\",\"rust\",\"rust\",\"scab\",\"healthy\",\"healthy\",\"multiple_diseases\",\"healthy\",\"scab\",\"scab\",\"scab\",\"rust\",\"rust\",\"healthy\",\"multiple_diseases\",\"rust\",\"rust\",\"scab\",\"rust\",\"rust\",\"healthy\",\"healthy\",\"scab\",\"scab\",\"healthy\",\"healthy\",\"healthy\",\"scab\",\"healthy\",\"healthy\",\"rust\",\"rust\",\"scab\",\"healthy\",\"healthy\",\"scab\",\"rust\",\"scab\",\"healthy\",\"scab\",\"healthy\",\"rust\",\"rust\",\"healthy\",\"scab\",\"scab\",\"healthy\",\"scab\",\"rust\",\"scab\",\"rust\",\"rust\",\"healthy\",\"healthy\",\"healthy\",\"scab\",\"rust\",\"healthy\",\"scab\",\"healthy\",\"scab\",\"healthy\",\"scab\",\"healthy\",\"healthy\",\"scab\",\"rust\",\"healthy\",\"rust\",\"healthy\",\"scab\",\"scab\",\"scab\",\"rust\",\"rust\",\"scab\",\"scab\",\"rust\",\"healthy\",\"rust\",\"rust\",\"rust\",\"rust\",\"scab\",\"rust\",\"healthy\",\"healthy\",\"healthy\",\"rust\",\"rust\",\"scab\",\"healthy\",\"rust\",\"rust\",\"scab\",\"rust\",\"scab\",\"scab\",\"scab\",\"rust\",\"rust\",\"healthy\",\"healthy\",\"scab\",\"rust\",\"rust\",\"scab\",\"rust\",\"scab\",\"multiple_diseases\",\"scab\",\"scab\",\"rust\",\"scab\",\"scab\",\"healthy\",\"healthy\",\"rust\",\"healthy\",\"rust\",\"scab\",\"scab\",\"scab\",\"scab\",\"healthy\",\"rust\",\"rust\",\"rust\",\"rust\",\"healthy\",\"scab\",\"scab\",\"healthy\",\"healthy\",\"healthy\",\"scab\",\"rust\",\"healthy\",\"multiple_diseases\",\"healthy\",\"rust\",\"rust\",\"healthy\",\"scab\",\"rust\",\"healthy\",\"scab\",\"healthy\",\"healthy\",\"healthy\",\"scab\",\"scab\",\"rust\",\"healthy\",\"scab\",\"healthy\",\"scab\",\"multiple_diseases\",\"scab\",\"healthy\",\"healthy\",\"healthy\",\"rust\",\"rust\",\"rust\",\"rust\",\"healthy\",\"healthy\",\"rust\",\"scab\",\"healthy\",\"healthy\",\"rust\",\"healthy\",\"scab\",\"healthy\",\"healthy\",\"rust\",\"scab\",\"scab\",\"rust\",\"healthy\",\"scab\",\"rust\",\"scab\",\"scab\",\"healthy\",\"healthy\",\"multiple_diseases\",\"healthy\",\"rust\",\"healthy\",\"rust\",\"scab\",\"healthy\",\"scab\",\"rust\",\"rust\",\"scab\",\"healthy\",\"healthy\",\"multiple_diseases\",\"rust\",\"healthy\",\"healthy\",\"healthy\",\"scab\",\"scab\",\"healthy\",\"rust\",\"healthy\",\"healthy\",\"healthy\",\"healthy\",\"rust\",\"healthy\",\"scab\",\"rust\",\"healthy\",\"scab\",\"healthy\",\"healthy\",\"scab\",\"rust\",\"scab\",\"scab\",\"scab\",\"rust\",\"rust\",\"healthy\",\"rust\",\"healthy\",\"healthy\",\"healthy\",\"rust\",\"healthy\",\"scab\",\"rust\",\"scab\",\"rust\",\"scab\",\"healthy\",\"scab\",\"scab\",\"scab\",\"scab\",\"scab\",\"rust\",\"rust\",\"scab\",\"scab\",\"rust\",\"rust\",\"healthy\",\"healthy\",\"scab\",\"healthy\",\"healthy\",\"scab\",\"healthy\",\"scab\",\"scab\",\"scab\",\"rust\",\"healthy\",\"multiple_diseases\",\"healthy\",\"scab\",\"scab\",\"healthy\",\"multiple_diseases\",\"rust\",\"healthy\",\"rust\",\"rust\",\"rust\",\"scab\",\"scab\",\"scab\",\"scab\",\"multiple_diseases\",\"rust\",\"rust\",\"healthy\",\"scab\",\"scab\",\"healthy\",\"multiple_diseases\",\"scab\",\"rust\",\"scab\",\"healthy\",\"rust\",\"rust\",\"scab\",\"healthy\",\"healthy\",\"scab\",\"multiple_diseases\",\"healthy\",\"rust\",\"scab\",\"multiple_diseases\",\"rust\",\"scab\",\"rust\",\"healthy\",\"healthy\",\"scab\",\"rust\",\"healthy\",\"scab\",\"rust\",\"scab\",\"scab\",\"rust\",\"rust\",\"scab\",\"healthy\",\"healthy\",\"rust\",\"rust\",\"rust\",\"rust\",\"healthy\",\"rust\",\"scab\",\"scab\",\"scab\",\"scab\",\"rust\",\"healthy\",\"healthy\",\"rust\",\"healthy\",\"scab\",\"rust\",\"healthy\",\"healthy\",\"rust\",\"scab\",\"scab\",\"scab\",\"healthy\",\"healthy\",\"rust\",\"scab\",\"scab\",\"rust\",\"healthy\",\"scab\",\"scab\",\"scab\",\"healthy\",\"rust\",\"healthy\",\"scab\",\"rust\",\"rust\",\"scab\",\"rust\",\"scab\",\"healthy\",\"rust\",\"rust\",\"rust\",\"healthy\",\"healthy\",\"rust\",\"healthy\",\"rust\",\"multiple_diseases\",\"scab\",\"rust\",\"rust\",\"healthy\",\"scab\",\"rust\",\"rust\",\"scab\",\"scab\",\"multiple_diseases\",\"scab\",\"healthy\",\"scab\",\"healthy\",\"multiple_diseases\",\"scab\",\"scab\",\"scab\",\"rust\",\"healthy\",\"scab\",\"healthy\",\"rust\",\"scab\",\"rust\",\"rust\",\"healthy\",\"rust\",\"rust\",\"rust\",\"rust\",\"healthy\",\"scab\",\"healthy\",\"rust\",\"scab\",\"scab\",\"scab\",\"rust\",\"healthy\",\"healthy\",\"multiple_diseases\",\"scab\",\"rust\",\"healthy\",\"rust\",\"scab\",\"scab\",\"scab\",\"rust\",\"scab\",\"healthy\",\"scab\",\"multiple_diseases\",\"scab\",\"rust\",\"healthy\",\"rust\",\"scab\",\"rust\",\"healthy\",\"scab\",\"scab\",\"scab\",\"rust\",\"rust\",\"healthy\",\"rust\",\"scab\",\"rust\",\"scab\",\"rust\",\"scab\",\"healthy\",\"rust\",\"healthy\",\"rust\",\"multiple_diseases\",\"healthy\",\"healthy\",\"rust\",\"scab\",\"scab\",\"scab\",\"rust\",\"rust\",\"rust\",\"rust\",\"scab\",\"scab\",\"healthy\",\"scab\",\"scab\",\"rust\",\"healthy\",\"rust\",\"multiple_diseases\",\"scab\",\"scab\",\"rust\",\"rust\",\"scab\",\"rust\",\"healthy\",\"healthy\",\"rust\",\"scab\",\"healthy\",\"scab\",\"rust\",\"healthy\",\"rust\",\"scab\",\"rust\",\"multiple_diseases\",\"rust\",\"multiple_diseases\",\"healthy\",\"scab\",\"healthy\",\"healthy\",\"scab\",\"scab\",\"scab\",\"rust\",\"healthy\",\"scab\",\"healthy\",\"healthy\",\"scab\",\"scab\",\"healthy\",\"scab\",\"rust\",\"healthy\",\"rust\",\"rust\",\"healthy\",\"scab\",\"scab\",\"rust\",\"healthy\",\"rust\",\"rust\",\"multiple_diseases\",\"healthy\",\"rust\",\"rust\",\"rust\",\"scab\",\"multiple_diseases\",\"healthy\",\"rust\",\"scab\",\"scab\",\"rust\",\"scab\",\"healthy\",\"scab\",\"scab\",\"multiple_diseases\",\"scab\",\"healthy\",\"rust\",\"rust\",\"healthy\",\"healthy\",\"healthy\",\"scab\",\"healthy\",\"rust\",\"rust\",\"rust\",\"scab\",\"scab\",\"scab\",\"scab\",\"healthy\",\"scab\",\"rust\",\"rust\",\"scab\",\"rust\",\"scab\",\"healthy\",\"scab\",\"healthy\",\"rust\",\"scab\",\"healthy\",\"multiple_diseases\",\"rust\",\"scab\",\"healthy\",\"rust\",\"scab\",\"rust\",\"scab\",\"rust\",\"rust\",\"rust\",\"rust\",\"rust\",\"scab\",\"rust\",\"healthy\",\"rust\",\"rust\",\"healthy\",\"scab\",\"rust\",\"scab\",\"rust\",\"scab\",\"scab\",\"healthy\",\"scab\",\"scab\",\"scab\",\"scab\",\"rust\",\"healthy\",\"rust\",\"scab\",\"rust\",\"scab\",\"scab\",\"healthy\",\"healthy\",\"healthy\",\"scab\",\"rust\",\"rust\",\"scab\",\"healthy\",\"healthy\",\"healthy\",\"healthy\",\"multiple_diseases\",\"rust\",\"scab\",\"scab\",\"scab\",\"scab\",\"rust\",\"rust\",\"healthy\",\"scab\",\"healthy\",\"multiple_diseases\",\"rust\",\"healthy\",\"healthy\",\"rust\",\"rust\",\"scab\",\"rust\",\"healthy\",\"rust\",\"rust\",\"healthy\",\"healthy\",\"scab\",\"scab\",\"scab\",\"scab\",\"healthy\",\"rust\",\"healthy\",\"healthy\",\"multiple_diseases\",\"healthy\",\"healthy\",\"scab\",\"rust\",\"scab\",\"healthy\",\"healthy\",\"rust\",\"rust\",\"rust\",\"scab\",\"rust\",\"scab\",\"rust\",\"scab\",\"rust\",\"rust\",\"healthy\",\"rust\",\"scab\",\"scab\",\"rust\",\"rust\",\"healthy\",\"healthy\",\"scab\",\"healthy\",\"rust\",\"scab\",\"healthy\",\"scab\",\"rust\",\"rust\",\"healthy\",\"rust\",\"healthy\",\"rust\",\"rust\",\"scab\",\"scab\",\"scab\",\"healthy\",\"multiple_diseases\",\"rust\",\"scab\",\"scab\",\"rust\",\"healthy\",\"rust\",\"healthy\",\"rust\",\"healthy\",\"rust\",\"scab\",\"scab\",\"rust\",\"healthy\",\"scab\",\"healthy\",\"scab\",\"rust\",\"scab\",\"rust\",\"multiple_diseases\",\"rust\",\"scab\",\"healthy\",\"rust\",\"healthy\",\"scab\",\"rust\",\"rust\",\"healthy\",\"scab\",\"rust\",\"healthy\",\"scab\",\"multiple_diseases\",\"rust\",\"scab\",\"rust\",\"rust\",\"scab\",\"healthy\",\"rust\",\"healthy\",\"healthy\",\"healthy\",\"healthy\",\"rust\",\"scab\",\"healthy\",\"scab\",\"scab\",\"rust\",\"rust\",\"rust\",\"scab\",\"healthy\",\"rust\",\"rust\",\"rust\",\"scab\",\"multiple_diseases\",\"scab\",\"healthy\",\"healthy\",\"scab\",\"rust\",\"scab\",\"scab\",\"rust\",\"scab\",\"healthy\",\"scab\",\"scab\",\"scab\",\"healthy\",\"rust\",\"rust\",\"rust\",\"rust\",\"healthy\",\"multiple_diseases\",\"rust\",\"rust\",\"healthy\",\"scab\",\"scab\",\"scab\",\"scab\",\"scab\",\"scab\",\"rust\",\"rust\",\"multiple_diseases\",\"rust\",\"healthy\",\"scab\",\"healthy\",\"multiple_diseases\",\"scab\",\"healthy\",\"scab\",\"rust\",\"multiple_diseases\",\"scab\",\"healthy\",\"healthy\",\"rust\",\"healthy\",\"scab\",\"scab\",\"scab\",\"rust\",\"healthy\",\"rust\",\"healthy\",\"healthy\",\"scab\",\"rust\",\"healthy\",\"scab\",\"multiple_diseases\",\"healthy\",\"healthy\",\"healthy\",\"multiple_diseases\",\"healthy\",\"rust\",\"rust\",\"healthy\",\"healthy\",\"healthy\",\"rust\",\"rust\",\"rust\",\"scab\",\"rust\",\"scab\",\"rust\",\"scab\",\"multiple_diseases\",\"rust\",\"healthy\",\"rust\",\"multiple_diseases\",\"rust\",\"rust\",\"scab\",\"rust\",\"scab\",\"healthy\",\"rust\",\"healthy\",\"scab\",\"healthy\",\"scab\",\"scab\",\"healthy\",\"rust\",\"rust\",\"healthy\",\"rust\",\"rust\",\"rust\",\"healthy\",\"healthy\",\"rust\",\"healthy\",\"healthy\",\"rust\",\"rust\",\"healthy\",\"healthy\",\"rust\",\"rust\",\"healthy\",\"multiple_diseases\",\"healthy\",\"healthy\",\"healthy\",\"rust\",\"healthy\",\"healthy\",\"healthy\",\"healthy\",\"multiple_diseases\",\"scab\",\"scab\",\"healthy\",\"scab\",\"scab\",\"rust\",\"rust\",\"rust\",\"scab\",\"scab\",\"rust\",\"rust\",\"healthy\",\"scab\",\"healthy\",\"healthy\",\"healthy\",\"scab\",\"scab\",\"scab\",\"scab\",\"rust\",\"multiple_diseases\",\"rust\",\"scab\",\"rust\",\"scab\",\"healthy\",\"scab\",\"multiple_diseases\",\"rust\",\"scab\",\"rust\",\"scab\",\"healthy\",\"healthy\",\"rust\",\"healthy\",\"rust\",\"scab\",\"scab\",\"scab\",\"healthy\",\"multiple_diseases\",\"healthy\",\"multiple_diseases\",\"rust\",\"healthy\",\"healthy\",\"rust\",\"healthy\",\"healthy\",\"rust\",\"healthy\",\"scab\",\"rust\",\"healthy\",\"healthy\",\"rust\",\"rust\",\"rust\",\"scab\",\"healthy\",\"healthy\",\"healthy\",\"rust\",\"scab\",\"rust\",\"healthy\",\"scab\",\"rust\",\"scab\",\"healthy\",\"scab\",\"healthy\",\"healthy\",\"rust\",\"scab\",\"healthy\",\"healthy\",\"rust\",\"scab\",\"scab\",\"scab\",\"scab\",\"scab\",\"scab\",\"healthy\",\"rust\",\"multiple_diseases\",\"rust\",\"rust\",\"scab\",\"rust\",\"scab\",\"rust\",\"scab\",\"scab\",\"scab\",\"rust\",\"scab\",\"rust\",\"scab\",\"rust\",\"healthy\",\"healthy\",\"rust\",\"rust\",\"scab\",\"scab\",\"rust\",\"scab\",\"healthy\",\"rust\",\"healthy\",\"healthy\",\"healthy\",\"rust\",\"scab\",\"rust\",\"scab\",\"rust\",\"healthy\",\"scab\",\"rust\",\"scab\",\"rust\",\"rust\",\"scab\",\"healthy\",\"rust\",\"healthy\",\"scab\",\"rust\",\"rust\",\"scab\",\"rust\",\"scab\",\"rust\",\"scab\",\"scab\",\"healthy\",\"scab\",\"scab\",\"rust\",\"rust\",\"scab\",\"rust\",\"scab\",\"scab\",\"scab\",\"healthy\",\"rust\",\"rust\",\"rust\",\"healthy\",\"rust\",\"healthy\",\"healthy\",\"healthy\",\"multiple_diseases\",\"multiple_diseases\",\"healthy\",\"healthy\",\"rust\",\"multiple_diseases\",\"rust\",\"rust\",\"scab\",\"rust\",\"healthy\",\"rust\",\"rust\",\"rust\",\"scab\",\"healthy\",\"rust\",\"rust\",\"rust\",\"rust\",\"healthy\",\"scab\",\"scab\",\"rust\",\"healthy\",\"scab\",\"rust\",\"scab\",\"healthy\",\"healthy\",\"scab\",\"healthy\",\"rust\",\"scab\",\"rust\",\"healthy\",\"multiple_diseases\",\"scab\",\"healthy\",\"healthy\",\"rust\",\"scab\"],\"xaxis\":\"x\",\"yaxis\":\"y\",\"type\":\"histogram\"}],                        {\"template\":{\"data\":{\"barpolar\":[{\"marker\":{\"line\":{\"color\":\"rgb(17,17,17)\",\"width\":0.5},\"pattern\":{\"fillmode\":\"overlay\",\"size\":10,\"solidity\":0.2}},\"type\":\"barpolar\"}],\"bar\":[{\"error_x\":{\"color\":\"#f2f5fa\"},\"error_y\":{\"color\":\"#f2f5fa\"},\"marker\":{\"line\":{\"color\":\"rgb(17,17,17)\",\"width\":0.5},\"pattern\":{\"fillmode\":\"overlay\",\"size\":10,\"solidity\":0.2}},\"type\":\"bar\"}],\"carpet\":[{\"aaxis\":{\"endlinecolor\":\"#A2B1C6\",\"gridcolor\":\"#506784\",\"linecolor\":\"#506784\",\"minorgridcolor\":\"#506784\",\"startlinecolor\":\"#A2B1C6\"},\"baxis\":{\"endlinecolor\":\"#A2B1C6\",\"gridcolor\":\"#506784\",\"linecolor\":\"#506784\",\"minorgridcolor\":\"#506784\",\"startlinecolor\":\"#A2B1C6\"},\"type\":\"carpet\"}],\"choropleth\":[{\"colorbar\":{\"outlinewidth\":0,\"ticks\":\"\"},\"type\":\"choropleth\"}],\"contourcarpet\":[{\"colorbar\":{\"outlinewidth\":0,\"ticks\":\"\"},\"type\":\"contourcarpet\"}],\"contour\":[{\"colorbar\":{\"outlinewidth\":0,\"ticks\":\"\"},\"colorscale\":[[0.0,\"#0d0887\"],[0.1111111111111111,\"#46039f\"],[0.2222222222222222,\"#7201a8\"],[0.3333333333333333,\"#9c179e\"],[0.4444444444444444,\"#bd3786\"],[0.5555555555555556,\"#d8576b\"],[0.6666666666666666,\"#ed7953\"],[0.7777777777777778,\"#fb9f3a\"],[0.8888888888888888,\"#fdca26\"],[1.0,\"#f0f921\"]],\"type\":\"contour\"}],\"heatmapgl\":[{\"colorbar\":{\"outlinewidth\":0,\"ticks\":\"\"},\"colorscale\":[[0.0,\"#0d0887\"],[0.1111111111111111,\"#46039f\"],[0.2222222222222222,\"#7201a8\"],[0.3333333333333333,\"#9c179e\"],[0.4444444444444444,\"#bd3786\"],[0.5555555555555556,\"#d8576b\"],[0.6666666666666666,\"#ed7953\"],[0.7777777777777778,\"#fb9f3a\"],[0.8888888888888888,\"#fdca26\"],[1.0,\"#f0f921\"]],\"type\":\"heatmapgl\"}],\"heatmap\":[{\"colorbar\":{\"outlinewidth\":0,\"ticks\":\"\"},\"colorscale\":[[0.0,\"#0d0887\"],[0.1111111111111111,\"#46039f\"],[0.2222222222222222,\"#7201a8\"],[0.3333333333333333,\"#9c179e\"],[0.4444444444444444,\"#bd3786\"],[0.5555555555555556,\"#d8576b\"],[0.6666666666666666,\"#ed7953\"],[0.7777777777777778,\"#fb9f3a\"],[0.8888888888888888,\"#fdca26\"],[1.0,\"#f0f921\"]],\"type\":\"heatmap\"}],\"histogram2dcontour\":[{\"colorbar\":{\"outlinewidth\":0,\"ticks\":\"\"},\"colorscale\":[[0.0,\"#0d0887\"],[0.1111111111111111,\"#46039f\"],[0.2222222222222222,\"#7201a8\"],[0.3333333333333333,\"#9c179e\"],[0.4444444444444444,\"#bd3786\"],[0.5555555555555556,\"#d8576b\"],[0.6666666666666666,\"#ed7953\"],[0.7777777777777778,\"#fb9f3a\"],[0.8888888888888888,\"#fdca26\"],[1.0,\"#f0f921\"]],\"type\":\"histogram2dcontour\"}],\"histogram2d\":[{\"colorbar\":{\"outlinewidth\":0,\"ticks\":\"\"},\"colorscale\":[[0.0,\"#0d0887\"],[0.1111111111111111,\"#46039f\"],[0.2222222222222222,\"#7201a8\"],[0.3333333333333333,\"#9c179e\"],[0.4444444444444444,\"#bd3786\"],[0.5555555555555556,\"#d8576b\"],[0.6666666666666666,\"#ed7953\"],[0.7777777777777778,\"#fb9f3a\"],[0.8888888888888888,\"#fdca26\"],[1.0,\"#f0f921\"]],\"type\":\"histogram2d\"}],\"histogram\":[{\"marker\":{\"pattern\":{\"fillmode\":\"overlay\",\"size\":10,\"solidity\":0.2}},\"type\":\"histogram\"}],\"mesh3d\":[{\"colorbar\":{\"outlinewidth\":0,\"ticks\":\"\"},\"type\":\"mesh3d\"}],\"parcoords\":[{\"line\":{\"colorbar\":{\"outlinewidth\":0,\"ticks\":\"\"}},\"type\":\"parcoords\"}],\"pie\":[{\"automargin\":true,\"type\":\"pie\"}],\"scatter3d\":[{\"line\":{\"colorbar\":{\"outlinewidth\":0,\"ticks\":\"\"}},\"marker\":{\"colorbar\":{\"outlinewidth\":0,\"ticks\":\"\"}},\"type\":\"scatter3d\"}],\"scattercarpet\":[{\"marker\":{\"colorbar\":{\"outlinewidth\":0,\"ticks\":\"\"}},\"type\":\"scattercarpet\"}],\"scattergeo\":[{\"marker\":{\"colorbar\":{\"outlinewidth\":0,\"ticks\":\"\"}},\"type\":\"scattergeo\"}],\"scattergl\":[{\"marker\":{\"line\":{\"color\":\"#283442\"}},\"type\":\"scattergl\"}],\"scattermapbox\":[{\"marker\":{\"colorbar\":{\"outlinewidth\":0,\"ticks\":\"\"}},\"type\":\"scattermapbox\"}],\"scatterpolargl\":[{\"marker\":{\"colorbar\":{\"outlinewidth\":0,\"ticks\":\"\"}},\"type\":\"scatterpolargl\"}],\"scatterpolar\":[{\"marker\":{\"colorbar\":{\"outlinewidth\":0,\"ticks\":\"\"}},\"type\":\"scatterpolar\"}],\"scatter\":[{\"marker\":{\"line\":{\"color\":\"#283442\"}},\"type\":\"scatter\"}],\"scatterternary\":[{\"marker\":{\"colorbar\":{\"outlinewidth\":0,\"ticks\":\"\"}},\"type\":\"scatterternary\"}],\"surface\":[{\"colorbar\":{\"outlinewidth\":0,\"ticks\":\"\"},\"colorscale\":[[0.0,\"#0d0887\"],[0.1111111111111111,\"#46039f\"],[0.2222222222222222,\"#7201a8\"],[0.3333333333333333,\"#9c179e\"],[0.4444444444444444,\"#bd3786\"],[0.5555555555555556,\"#d8576b\"],[0.6666666666666666,\"#ed7953\"],[0.7777777777777778,\"#fb9f3a\"],[0.8888888888888888,\"#fdca26\"],[1.0,\"#f0f921\"]],\"type\":\"surface\"}],\"table\":[{\"cells\":{\"fill\":{\"color\":\"#506784\"},\"line\":{\"color\":\"rgb(17,17,17)\"}},\"header\":{\"fill\":{\"color\":\"#2a3f5f\"},\"line\":{\"color\":\"rgb(17,17,17)\"}},\"type\":\"table\"}]},\"layout\":{\"annotationdefaults\":{\"arrowcolor\":\"#f2f5fa\",\"arrowhead\":0,\"arrowwidth\":1},\"autotypenumbers\":\"strict\",\"coloraxis\":{\"colorbar\":{\"outlinewidth\":0,\"ticks\":\"\"}},\"colorscale\":{\"diverging\":[[0,\"#8e0152\"],[0.1,\"#c51b7d\"],[0.2,\"#de77ae\"],[0.3,\"#f1b6da\"],[0.4,\"#fde0ef\"],[0.5,\"#f7f7f7\"],[0.6,\"#e6f5d0\"],[0.7,\"#b8e186\"],[0.8,\"#7fbc41\"],[0.9,\"#4d9221\"],[1,\"#276419\"]],\"sequential\":[[0.0,\"#0d0887\"],[0.1111111111111111,\"#46039f\"],[0.2222222222222222,\"#7201a8\"],[0.3333333333333333,\"#9c179e\"],[0.4444444444444444,\"#bd3786\"],[0.5555555555555556,\"#d8576b\"],[0.6666666666666666,\"#ed7953\"],[0.7777777777777778,\"#fb9f3a\"],[0.8888888888888888,\"#fdca26\"],[1.0,\"#f0f921\"]],\"sequentialminus\":[[0.0,\"#0d0887\"],[0.1111111111111111,\"#46039f\"],[0.2222222222222222,\"#7201a8\"],[0.3333333333333333,\"#9c179e\"],[0.4444444444444444,\"#bd3786\"],[0.5555555555555556,\"#d8576b\"],[0.6666666666666666,\"#ed7953\"],[0.7777777777777778,\"#fb9f3a\"],[0.8888888888888888,\"#fdca26\"],[1.0,\"#f0f921\"]]},\"colorway\":[\"#636efa\",\"#EF553B\",\"#00cc96\",\"#ab63fa\",\"#FFA15A\",\"#19d3f3\",\"#FF6692\",\"#B6E880\",\"#FF97FF\",\"#FECB52\"],\"font\":{\"color\":\"#f2f5fa\"},\"geo\":{\"bgcolor\":\"rgb(17,17,17)\",\"lakecolor\":\"rgb(17,17,17)\",\"landcolor\":\"rgb(17,17,17)\",\"showlakes\":true,\"showland\":true,\"subunitcolor\":\"#506784\"},\"hoverlabel\":{\"align\":\"left\"},\"hovermode\":\"closest\",\"mapbox\":{\"style\":\"dark\"},\"paper_bgcolor\":\"rgb(17,17,17)\",\"plot_bgcolor\":\"rgb(17,17,17)\",\"polar\":{\"angularaxis\":{\"gridcolor\":\"#506784\",\"linecolor\":\"#506784\",\"ticks\":\"\"},\"bgcolor\":\"rgb(17,17,17)\",\"radialaxis\":{\"gridcolor\":\"#506784\",\"linecolor\":\"#506784\",\"ticks\":\"\"}},\"scene\":{\"xaxis\":{\"backgroundcolor\":\"rgb(17,17,17)\",\"gridcolor\":\"#506784\",\"gridwidth\":2,\"linecolor\":\"#506784\",\"showbackground\":true,\"ticks\":\"\",\"zerolinecolor\":\"#C8D4E3\"},\"yaxis\":{\"backgroundcolor\":\"rgb(17,17,17)\",\"gridcolor\":\"#506784\",\"gridwidth\":2,\"linecolor\":\"#506784\",\"showbackground\":true,\"ticks\":\"\",\"zerolinecolor\":\"#C8D4E3\"},\"zaxis\":{\"backgroundcolor\":\"rgb(17,17,17)\",\"gridcolor\":\"#506784\",\"gridwidth\":2,\"linecolor\":\"#506784\",\"showbackground\":true,\"ticks\":\"\",\"zerolinecolor\":\"#C8D4E3\"}},\"shapedefaults\":{\"line\":{\"color\":\"#f2f5fa\"}},\"sliderdefaults\":{\"bgcolor\":\"#C8D4E3\",\"bordercolor\":\"rgb(17,17,17)\",\"borderwidth\":1,\"tickwidth\":0},\"ternary\":{\"aaxis\":{\"gridcolor\":\"#506784\",\"linecolor\":\"#506784\",\"ticks\":\"\"},\"baxis\":{\"gridcolor\":\"#506784\",\"linecolor\":\"#506784\",\"ticks\":\"\"},\"bgcolor\":\"rgb(17,17,17)\",\"caxis\":{\"gridcolor\":\"#506784\",\"linecolor\":\"#506784\",\"ticks\":\"\"}},\"title\":{\"x\":0.05},\"updatemenudefaults\":{\"bgcolor\":\"#506784\",\"borderwidth\":0},\"xaxis\":{\"automargin\":true,\"gridcolor\":\"#283442\",\"linecolor\":\"#506784\",\"ticks\":\"\",\"title\":{\"standoff\":15},\"zerolinecolor\":\"#283442\",\"zerolinewidth\":2},\"yaxis\":{\"automargin\":true,\"gridcolor\":\"#283442\",\"linecolor\":\"#506784\",\"ticks\":\"\",\"title\":{\"standoff\":15},\"zerolinecolor\":\"#283442\",\"zerolinewidth\":2}}},\"xaxis\":{\"anchor\":\"y\",\"domain\":[0.0,1.0],\"title\":{\"text\":\"text_label\"}},\"yaxis\":{\"anchor\":\"x\",\"domain\":[0.0,1.0],\"title\":{\"text\":\"count\"}},\"legend\":{\"tracegroupgap\":0},\"title\":{\"text\":\"Plant pathology data set class histogram\"},\"barmode\":\"relative\"},                        {\"responsive\": true}                    ).then(function(){\n",
              "                            \n",
              "var gd = document.getElementById('ca4c4242-e585-4966-97ab-4ea34d3c30d6');\n",
              "var x = new MutationObserver(function (mutations, observer) {{\n",
              "        var display = window.getComputedStyle(gd).display;\n",
              "        if (!display || display === 'none') {{\n",
              "            console.log([gd, 'removed!']);\n",
              "            Plotly.purge(gd);\n",
              "            observer.disconnect();\n",
              "        }}\n",
              "}});\n",
              "\n",
              "// Listen for the removal of the full notebook cells\n",
              "var notebookContainer = gd.closest('#notebook-container');\n",
              "if (notebookContainer) {{\n",
              "    x.observe(notebookContainer, {childList: true});\n",
              "}}\n",
              "\n",
              "// Listen for the clearing of the current output cell\n",
              "var outputEl = gd.closest('.output');\n",
              "if (outputEl) {{\n",
              "    x.observe(outputEl, {childList: true});\n",
              "}}\n",
              "\n",
              "                        })                };                            </script>        </div>\n",
              "</body>\n",
              "</html>"
            ]
          },
          "metadata": {}
        }
      ],
      "source": [
        "# disply dataset classes histogram\n",
        "px.histogram(data_frame=df_labels, \n",
        "             x='text_label',\n",
        "             title='Plant pathology data set class histogram', \n",
        "             template='plotly_dark')"
      ]
    },
    {
      "cell_type": "code",
      "execution_count": 10,
      "metadata": {
        "colab": {
          "base_uri": "https://localhost:8080/"
        },
        "id": "p2qgRpIFYn86",
        "outputId": "fbcf0601-1e99-4149-e0dd-d1e11907bd50"
      },
      "outputs": [
        {
          "output_type": "stream",
          "name": "stdout",
          "text": [
            "rust                 622\n",
            "scab                 592\n",
            "healthy              516\n",
            "multiple_diseases     91\n",
            "Name: text_label, dtype: int64\n"
          ]
        }
      ],
      "source": [
        "# count images of all classes\n",
        "print(df_labels['text_label'].value_counts())"
      ]
    },
    {
      "cell_type": "markdown",
      "metadata": {
        "id": "mxdiOycYBt5Z"
      },
      "source": [
        "## Creation of a new data set with photos sorted into separate class folders."
      ]
    },
    {
      "cell_type": "code",
      "execution_count": 11,
      "metadata": {
        "id": "ieSa0HgEhj-V"
      },
      "outputs": [],
      "source": [
        "# add \".jpg\" into file names in DataFrame\n",
        "df_labels['image_id'] = df_labels['image_id'].apply(lambda f_name: f_name+'.jpg')"
      ]
    },
    {
      "cell_type": "code",
      "execution_count": 12,
      "metadata": {
        "id": "j_AytIIhdSP1"
      },
      "outputs": [],
      "source": [
        "def sort_rename_images(folder_path: str, file_name_list: list, labels_list: list):\n",
        "  '''\n",
        "  Create class folders for image separtion.\n",
        "  Sorts pictures into separate class folders and return a list of new file names.\n",
        "  \n",
        "  Args:\n",
        "        folder_path (str): Path to folder with images.\n",
        "        file_name_list (list): List with filenames.\n",
        "        labels_list (list): List with image labels.\n",
        "\n",
        "  Returns:\n",
        "        list: Return a list of new file names.\n",
        "  '''\n",
        "  \n",
        "  # create new folders for image classes\n",
        "  class_names = set(labels_list)\n",
        "  for cls in class_names:\n",
        "    new_folder_path = os.path.join(folder_path, cls)\n",
        "    os.mkdir(new_folder_path)\n",
        "  \n",
        "  # create new file names\n",
        "  new_file_names = []\n",
        "  for i in range(len(file_name_list)):\n",
        "    file_name = file_name_list[i]\n",
        "    label = labels_list[i]\n",
        "    old_file_path = os.path.join(folder_path, file_name)\n",
        "    new_folder_path = os.path.join(folder_path, label)\n",
        "    new_file_name = str(i) + '_' + label + '.jpg'\n",
        "    \n",
        "    # add new name to the list\n",
        "    new_file_names.append(new_file_name)\n",
        "    \n",
        "    # new file path\n",
        "    new_file_path = os.path.join(new_folder_path, new_file_name)\n",
        "    #print(new_file_path)\n",
        "    \n",
        "    # move file into new location\n",
        "    shutil.copy(old_file_path, new_file_path)\n",
        "  \n",
        "  return new_file_names"
      ]
    },
    {
      "cell_type": "code",
      "execution_count": null,
      "metadata": {
        "id": "Nio2M0j3dwys"
      },
      "outputs": [],
      "source": [
        "# sort and rename images\n",
        "new_f_names = sort_rename_images(folders_path, all_images, list(df_labels['text_label']))\n",
        "print(new_f_names[:5])"
      ]
    },
    {
      "cell_type": "code",
      "execution_count": null,
      "metadata": {
        "id": "KJhlRlSQzvSg"
      },
      "outputs": [],
      "source": [
        "# add new files name to DataFrame\n",
        "df_labels['new_names'] = new_f_names\n",
        "df_labels.head(2)"
      ]
    },
    {
      "cell_type": "code",
      "execution_count": null,
      "metadata": {
        "id": "pfwzb7vO_zdJ"
      },
      "outputs": [],
      "source": [
        "image_size = 150\n",
        "\n",
        "# image augmentation: flip, zoom, rotation and resizing\n",
        "img_augmentation = tf.keras.Sequential([\n",
        "    layers.experimental.preprocessing.Resizing(image_size, image_size),\n",
        "    layers.RandomZoom(0.2, 0.2),\n",
        "    layers.RandomRotation(factor=(-0.5, 0.5)),\n",
        "    layers.experimental.preprocessing.RandomFlip(\"horizontal_and_vertical\")\n",
        "])"
      ]
    },
    {
      "cell_type": "code",
      "execution_count": null,
      "metadata": {
        "id": "-mWq6rVhA1_U"
      },
      "outputs": [],
      "source": [
        "def aug_balance_ds(folders_path: str, folders_list: list, img_size: int):\n",
        "  '''\n",
        "  Balances classes in the image dataset. \n",
        "  Checks which class of images has the most elements and creates new augmented images, \n",
        "  in the amount that is the difference between the most numerous image class and the current image class.\n",
        "  \n",
        "  Args:\n",
        "        folders_path (str):   Path to folder with images.\n",
        "        folders_list (list):  List with names of class folder.\n",
        "        img_size (int):       Target image size.\n",
        "\n",
        "  Returns:\n",
        "        returns nothing\n",
        "  '''\n",
        "  \n",
        "  # checking which class of photos has the most number of items \n",
        "  max_images = 0\n",
        "  for folder in folders_list:\n",
        "    folder_path = os.path.join(folders_path, folder)\n",
        "    images_in_folder = len(os.listdir(folder_path))\n",
        "    if images_in_folder > max_images:\n",
        "      max_images = images_in_folder\n",
        "\n",
        "  # checking how many photos are in each folder    \n",
        "  for folder in folders_list:\n",
        "    folder_path = os.path.join(folders_path, folder)\n",
        "    images_in_folder = len(os.listdir(folder_path))\n",
        "    \n",
        "    # checking how many photos there are to produce\n",
        "    if images_in_folder < max_images:\n",
        "      images_to_make = max_images - images_in_folder\n",
        "      file_names = os.listdir(folder_path)\n",
        "      \n",
        "      # creation of new images\n",
        "      for i in range(images_to_make):\n",
        "        # random image in folder\n",
        "        random_img_name = random.sample(file_names, 1)[0]\n",
        "        random_img_path = os.path.join(folder_path, random_img_name)\n",
        "\n",
        "        # load and convert image to array\n",
        "        random_image = image.load_img(random_img_path, target_size=(img_size, img_size))\n",
        "        random_image = tf.keras.preprocessing.image.img_to_array(random_image)\n",
        "        \n",
        "        # augmentation function\n",
        "        random_image_aug = img_augmentation(random_image)\n",
        "\n",
        "        # new image name and path\n",
        "        img_new_name = random_img_name[:-4] + '_aug_' + str(i) + '.jpg'\n",
        "        aug_img_path = os.path.join(folder_path, img_new_name)\n",
        "        #print(aug_img_path)\n",
        "        \n",
        "        # save image\n",
        "        tf.keras.utils.save_img(\n",
        "          aug_img_path, random_image_aug, data_format=None, file_format=None, scale=True\n",
        "        )"
      ]
    },
    {
      "cell_type": "code",
      "execution_count": null,
      "metadata": {
        "id": "mef5rWIOInCW"
      },
      "outputs": [],
      "source": [
        "# new images creation\n",
        "AUG_DATA_PATH = ''\n",
        "\n",
        "folders_list = os.listdir(AUG_DATA_PATH)\n",
        "aug_balance_ds(AUG_DATA_PATH, folders_list, image_size)"
      ]
    },
    {
      "cell_type": "code",
      "execution_count": null,
      "metadata": {
        "id": "6MuX744RLM-D"
      },
      "outputs": [],
      "source": [
        "def train_valid_test_split(folders_path: str, class_list: list, valid: float, test: float):\n",
        "  '''\n",
        "  Train, vadlidation and test data set split.\n",
        "  Create folders structure required for tensorflow ImageDataGenerator.\n",
        "\n",
        "  Example: data set main folder -> train/valid/test folders -> class folders\n",
        "  \n",
        "  Args:\n",
        "        folders_path (str):   Path to folder with images.\n",
        "        class_list (list):    List with names of class folder.\n",
        "        valid (float):        Validation data set size.\n",
        "        test (float):         Test data set size.\n",
        "\n",
        "  Returns:\n",
        "        returns nothing\n",
        "  '''\n",
        "  # create new folder for data set\n",
        "  splited_ds_path = os.path.join(folders_path, 'splited_dataset')\n",
        "  os.mkdir(splited_ds_path)\n",
        "  new_folders = ['train', 'valid', 'test']\n",
        "\n",
        "  # checking how many images there are in folder\n",
        "  img_in_folders = len(os.listdir(os.path.join(folders_path, class_list[0])))\n",
        "  #print(img_in_folders)\n",
        "  \n",
        "  # create counters for valid, test and train parts of the data set\n",
        "  valid_count = int(img_in_folders * valid)\n",
        "  test_count = int(img_in_folders * test)\n",
        "  train_count = img_in_folders - valid_count - test_count\n",
        "  \n",
        "  # build folders structure\n",
        "  for folder in new_folders:\n",
        "    new_folder_path = os.path.join(splited_ds_path, folder)\n",
        "    # create new folder\n",
        "    os.mkdir(new_folder_path)\n",
        "    for folder_c in class_list:\n",
        "      new_c_folder_path = os.path.join(new_folder_path, folder_c)\n",
        "      # create new class folder\n",
        "      os.mkdir(new_c_folder_path)\n",
        "  \n",
        "  # files in each class folders\n",
        "  for folder in class_list:\n",
        "    folder_path = os.path.join(folders_path, folder)\n",
        "    folder_files = os.listdir(folder_path)\n",
        "    \n",
        "    # validation data set creation\n",
        "    for valid_img in range(valid_count):\n",
        "      random_file = random.sample(folder_files, 1)[0]\n",
        "      old_rand_file_path = os.path.join(folder_path, random_file)\n",
        "      new_rand_file_path = os.path.join(splited_ds_path, 'valid')\n",
        "      new_rand_file_path = os.path.join(new_rand_file_path, folder)\n",
        "      new_rand_file_path = os.path.join(new_rand_file_path, random_file)\n",
        "      #print(new_rand_file_path)\n",
        "      \n",
        "      # move file\n",
        "      shutil.move(old_rand_file_path, new_rand_file_path)\n",
        "      folder_files.remove(random_file)\n",
        "    \n",
        "    # test data set creation\n",
        "    for test_img in range(test_count):\n",
        "      random_file = random.sample(folder_files, 1)[0]\n",
        "      old_rand_file_path = os.path.join(folder_path, random_file)\n",
        "      new_rand_file_path = os.path.join(splited_ds_path, 'test')\n",
        "      new_rand_file_path = os.path.join(new_rand_file_path, folder)\n",
        "      new_rand_file_path = os.path.join(new_rand_file_path, random_file)\n",
        "      #print(new_rand_file_path)\n",
        "      \n",
        "      # move file\n",
        "      shutil.move(old_rand_file_path, new_rand_file_path)\n",
        "      folder_files.remove(random_file)\n",
        "    \n",
        "    # train data set creation\n",
        "    for train_img in folder_files:\n",
        "      old_file_path = os.path.join(folder_path, train_img)\n",
        "      new_file_path = os.path.join(splited_ds_path, 'train')\n",
        "      new_file_path = os.path.join(new_file_path, folder)\n",
        "      new_file_path = os.path.join(new_file_path, train_img)\n",
        "      #print(new_file_path)\n",
        "      \n",
        "      # move file\n",
        "      shutil.move(old_file_path, new_file_path)"
      ]
    },
    {
      "cell_type": "code",
      "execution_count": null,
      "metadata": {
        "id": "j1-eK2aULW-N"
      },
      "outputs": [],
      "source": [
        "# split data set\n",
        "DATA_SET_PATH = ''\n",
        "\n",
        "class_list = [] \n",
        "train_valid_test_split(DATA_SET_PATH, class_list, 0.2, 0.2)"
      ]
    },
    {
      "cell_type": "markdown",
      "metadata": {
        "id": "AEjvobPYmujP"
      },
      "source": [
        "# Convolutional Neural Network Model"
      ]
    },
    {
      "cell_type": "markdown",
      "metadata": {
        "id": "PsxNTA10qMjG"
      },
      "source": [
        "## SETTINGS"
      ]
    },
    {
      "cell_type": "code",
      "execution_count": 13,
      "metadata": {
        "id": "Ysr0hEyEfEm9"
      },
      "outputs": [],
      "source": [
        "# settings for neural network\n",
        "BASE_DIR = '/content/drive/MyDrive/Datasets/Plant Pathology 2020 - FGVC7/images/splited_dataset'\n",
        "BATCH_SIZE = 32\n",
        "IMG_SHAPE = 150\n",
        "INPUT_SHAPE = (IMG_SHAPE, IMG_SHAPE, 3)\n",
        "N_CLASSES = 4"
      ]
    },
    {
      "cell_type": "markdown",
      "metadata": {
        "id": "gTTtpkbNqTj3"
      },
      "source": [
        "## Training and validation Image Data Generator"
      ]
    },
    {
      "cell_type": "code",
      "execution_count": 14,
      "metadata": {
        "id": "JavfuF7tv9q6"
      },
      "outputs": [],
      "source": [
        "# paths to training and validation data\n",
        "train_dir = os.path.join(BASE_DIR, 'train')\n",
        "val_dir = os.path.join(BASE_DIR, 'valid')"
      ]
    },
    {
      "cell_type": "code",
      "execution_count": 15,
      "metadata": {
        "colab": {
          "base_uri": "https://localhost:8080/"
        },
        "id": "SM9uPCRty9Vn",
        "outputId": "a7c5001a-0900-4e14-ad22-087a25992507"
      },
      "outputs": [
        {
          "output_type": "stream",
          "name": "stdout",
          "text": [
            "Found 1496 images belonging to 4 classes.\n"
          ]
        }
      ],
      "source": [
        "# train data generator\n",
        "image_gen_train = ImageDataGenerator(\n",
        "                                    rescale=1./255,\n",
        "                                    rotation_range=45,\n",
        "                                    width_shift_range=.15,\n",
        "                                    height_shift_range=.15,\n",
        "                                    horizontal_flip=True,\n",
        "                                    zoom_range=0.2\n",
        "                                    )\n",
        "\n",
        "train_data_gen = image_gen_train.flow_from_directory(\n",
        "                                                    batch_size=BATCH_SIZE,\n",
        "                                                    directory=train_dir,\n",
        "                                                    shuffle=True,\n",
        "                                                    target_size=(IMG_SHAPE,IMG_SHAPE),\n",
        "                                                    class_mode='categorical'\n",
        "                                                    )"
      ]
    },
    {
      "cell_type": "code",
      "execution_count": 16,
      "metadata": {
        "colab": {
          "base_uri": "https://localhost:8080/"
        },
        "id": "AYmWFkd_y-W9",
        "outputId": "3e23885d-1410-4a94-a022-56123310f209"
      },
      "outputs": [
        {
          "output_type": "stream",
          "name": "stdout",
          "text": [
            "Found 496 images belonging to 4 classes.\n"
          ]
        }
      ],
      "source": [
        "# validation data generator\n",
        "image_gen_val = ImageDataGenerator(rescale=1./255)\n",
        "\n",
        "val_data_gen = image_gen_val.flow_from_directory(\n",
        "                                                batch_size=BATCH_SIZE,\n",
        "                                                directory=val_dir,\n",
        "                                                target_size=(IMG_SHAPE, IMG_SHAPE),\n",
        "                                                class_mode='categorical'\n",
        "                                                )"
      ]
    },
    {
      "cell_type": "markdown",
      "metadata": {
        "id": "KKui5NGkqhT3"
      },
      "source": [
        "## Convolutional Neural Network Models"
      ]
    },
    {
      "cell_type": "markdown",
      "source": [
        "### CNN Model Simple"
      ],
      "metadata": {
        "id": "b5Um4jIVlnIt"
      }
    },
    {
      "cell_type": "code",
      "execution_count": null,
      "metadata": {
        "id": "XFCCcTr-X-al"
      },
      "outputs": [],
      "source": [
        "# simple CNN model: \n",
        "# 60 epochs / 80% accuracy on test data\n",
        "\n",
        "# Input  Layer: Conv  32\n",
        "#\n",
        "# Conv   Layer: Conv  64\n",
        "#\n",
        "# Hidden Layer: Dense 256\n",
        "#\n",
        "# Output Layer: Dense number of classes\n",
        "\n",
        "def build_cnn_model_simple(input_shape=INPUT_SHAPE, n_classes=N_CLASSES):\n",
        "    ### conv.16.32.64       Dense 512 128 4           58%\n",
        "    ### conv.64.64.128.128  Dense 256 4     Drop 0.4  91% \n",
        "    ###\n",
        "    model = Sequential()\n",
        "\n",
        "    # convolutional input layer\n",
        "    model.add(Conv2D(64, 3, padding='same', activation='relu', input_shape=input_shape))\n",
        "    model.add(MaxPooling2D(pool_size=(3, 3)))\n",
        "    #model.add(Dropout(0.20))#\n",
        "\n",
        "    # convolutional layers\n",
        "    model.add(Conv2D(64, 3, padding='same', activation='relu'))\n",
        "    model.add(MaxPooling2D(pool_size=(3, 3)))\n",
        "    model.add(Dropout(0.20))\n",
        "\n",
        "    model.add(Conv2D(128, 3, padding='same', activation='relu'))\n",
        "    model.add(MaxPooling2D(pool_size=(3, 3)))\n",
        "    #model.add(Dropout(0.20))#\n",
        "\n",
        "    model.add(Conv2D(128, 3, padding='same', activation='relu'))\n",
        "    model.add(MaxPooling2D(pool_size=(3, 3)))\n",
        "    model.add(Dropout(0.20))#\n",
        "    \n",
        "    # flattening layer\n",
        "    model.add(Flatten())\n",
        "\n",
        "    # fully connected dense layers\n",
        "    model.add(Dense(256, activation='relu'))\n",
        "    model.add(Dropout(0.40))\n",
        "\n",
        "    # output layer\n",
        "    model.add(Dense(n_classes, activation='softmax'))\n",
        "\n",
        "    return model"
      ]
    },
    {
      "cell_type": "code",
      "source": [
        "# simple 2\n",
        "def build_cnn_model_simple(input_shape=INPUT_SHAPE, n_classes=N_CLASSES):\n",
        "    model = Sequential()\n",
        "\n",
        "    # convolutional input layer\n",
        "    model.add(Conv2D(128, 3, padding='same', activation='relu', input_shape=input_shape))\n",
        "    model.add(MaxPooling2D(pool_size=(3, 3)))\n",
        "    model.add(Dropout(0.20))#\n",
        "\n",
        "    # convolutional layers\n",
        "    #model.add(Conv2D(64, 3, padding='same', activation='relu'))\n",
        "    #model.add(MaxPooling2D(pool_size=(3, 3)))\n",
        "    #model.add(Dropout(0.20))\n",
        "\n",
        "    #model.add(Conv2D(128, 3, padding='same', activation='relu'))\n",
        "    #model.add(MaxPooling2D(pool_size=(3, 3)))\n",
        "    #model.add(Dropout(0.20))#\n",
        "\n",
        "    #model.add(Conv2D(128, 3, padding='same', activation='relu'))\n",
        "    #model.add(MaxPooling2D(pool_size=(3, 3)))\n",
        "    #model.add(Dropout(0.20))#\n",
        "    \n",
        "    # flattening layer\n",
        "    model.add(Flatten())\n",
        "\n",
        "    # fully connected dense layers\n",
        "    model.add(Dense(1024, activation='relu'))\n",
        "    model.add(Dropout(0.30))\n",
        "\n",
        "    # output layer\n",
        "    model.add(Dense(n_classes, activation='softmax'))\n",
        "\n",
        "    return model"
      ],
      "metadata": {
        "id": "20z1HLgxCngD"
      },
      "execution_count": null,
      "outputs": []
    },
    {
      "cell_type": "markdown",
      "source": [
        "### CNN Model 1"
      ],
      "metadata": {
        "id": "b8NOZAR7lurl"
      }
    },
    {
      "cell_type": "code",
      "execution_count": null,
      "metadata": {
        "id": "Yvsp4vM43yfl"
      },
      "outputs": [],
      "source": [
        "# CNN model 1: \n",
        "# Input  Layer: Conv  16\n",
        "#\n",
        "# Conv   Layer: Conv  32\n",
        "# Conv   Layer: Conv  64\n",
        "# Conv   Layer: Conv  128\n",
        "#\n",
        "# Hidden Layer: Dense 512\n",
        "# Hidden Layer: Dense 128\n",
        "# Hidden Layer: Dense 32\n",
        "#\n",
        "# Output Layer: Dense number of classes\n",
        "\n",
        "def build_cnn_model_1(input_shape=INPUT_SHAPE, n_classes=N_CLASSES):\n",
        "    ### conv.16.32.64.128 Dense 512 128 32 4 - 2h 91% \\ 120 epoch\n",
        "    model = Sequential()\n",
        "\n",
        "    # convolutional input layer\n",
        "    model.add(Conv2D(64, 3, padding='same', activation='relu', input_shape=input_shape))\n",
        "    model.add(MaxPooling2D(pool_size=(3, 3)))# (2,2)\n",
        "    #model.add(Dropout(0.20))#\n",
        "\n",
        "    # convolutional layers\n",
        "    model.add(Conv2D(64, 3, padding='same', activation='relu'))\n",
        "    model.add(MaxPooling2D(pool_size=(3, 3)))\n",
        "    #model.add(Dropout(0.20))\n",
        "\n",
        "    model.add(Conv2D(128, 3, padding='same', activation='relu'))\n",
        "    model.add(MaxPooling2D(pool_size=(3, 3)))\n",
        "    #model.add(Dropout(0.20))#\n",
        "\n",
        "    model.add(Conv2D(128, 3, padding='same', activation='relu'))\n",
        "    model.add(MaxPooling2D(pool_size=(3, 3)))\n",
        "    model.add(Dropout(0.20))\n",
        "\n",
        "    #model.add(Conv2D(128, 3, padding='same', activation='relu'))#\n",
        "    #model.add(MaxPooling2D(pool_size=(3, 3)))#\n",
        "    #model.add(Dropout(0.20))#\n",
        "\n",
        "    # flattening layer\n",
        "    model.add(Flatten())\n",
        "\n",
        "    # fully connected dense layers\n",
        "    model.add(Dense(512, activation='relu'))\n",
        "    #model.add(Dropout(0.2))#\n",
        "\n",
        "    model.add(Dense(512, activation='relu'))\n",
        "    #model.add(Dropout(0.2))#\n",
        "\n",
        "    model.add(Dense(128, activation='relu'))\n",
        "    model.add(Dropout(0.4))\n",
        "\n",
        "    #model.add(Dense(16, activation='relu'))#\n",
        "    #model.add(Dropout(0.2))#\n",
        "\n",
        "    # output layer\n",
        "    model.add(Dense(n_classes, activation='softmax'))\n",
        "\n",
        "    return model"
      ]
    },
    {
      "cell_type": "markdown",
      "source": [
        "### CNN Model 2"
      ],
      "metadata": {
        "id": "DIO81RrGl7Ot"
      }
    },
    {
      "cell_type": "code",
      "execution_count": null,
      "metadata": {
        "id": "DcryzTFwLt6k"
      },
      "outputs": [],
      "source": [
        "# CNN model 2: \n",
        "# Input  Layer: Conv  32\n",
        "#\n",
        "# Conv   Layer: Conv  64\n",
        "# Conv   Layer: Conv  64\n",
        "# Conv   Layer: Conv  128\n",
        "# Conv   Layer: Conv  128\n",
        "#\n",
        "# Hidden Layer: Dense 1024\n",
        "#\n",
        "# Output Layer: Dense number of classes\n",
        "\n",
        "def build_cnn_model_2(input_shape=INPUT_SHAPE, n_classes=N_CLASSES):\n",
        "    model = Sequential()\n",
        "    chan_dim = -1\n",
        "    if K.image_data_format == \"channels_first\":\n",
        "        input_shape = (input_shape[2], input_shape[0], input_shape[1])\n",
        "        chan_dim = 1\n",
        "    \n",
        "    # 1 convolutional input layer\n",
        "    model.add(Conv2D(32, (3,3), padding='same', activation='relu', input_shape=input_shape))\n",
        "    model.add(BatchNormalization(axis=chan_dim))\n",
        "    model.add(MaxPooling2D(pool_size=(3, 3)))\n",
        "    model.add(Dropout(0.25))\n",
        "\n",
        "    # 2 conv layer\n",
        "    model.add(Conv2D(64, (3,3), padding='same', activation='relu'))\n",
        "    model.add(BatchNormalization(axis=chan_dim))\n",
        "    #model.add(MaxPooling2D(pool_size=(3, 3)))\n",
        "    #model.add(Dropout(0.25))\n",
        "\n",
        "    # 3 conv layer\n",
        "    model.add(Conv2D(64, (3,3), padding='same', activation='relu'))\n",
        "    model.add(BatchNormalization(axis=chan_dim))\n",
        "    model.add(MaxPooling2D(pool_size=(3, 3)))\n",
        "    model.add(Dropout(0.25))\n",
        "\n",
        "    # 4 conv layer\n",
        "    model.add(Conv2D(128, (3,3), padding='same', activation='relu'))\n",
        "    model.add(BatchNormalization(axis=chan_dim))\n",
        "    #model.add(MaxPooling2D(pool_size=(3, 3)))\n",
        "    #model.add(Dropout(0.25))\n",
        "    \n",
        "    # 5 conv layer\n",
        "    model.add(Conv2D(128, (3,3), padding='same', activation='relu'))\n",
        "    model.add(BatchNormalization(axis=chan_dim))\n",
        "    model.add(MaxPooling2D(pool_size=(3, 3)))\n",
        "    model.add(Dropout(0.25))\n",
        "\n",
        "    # falatten layer\n",
        "    model.add(Flatten())\n",
        "    \n",
        "    # 1 dense layer\n",
        "    model.add(Dense(1024, activation='relu'))\n",
        "    model.add(BatchNormalization())\n",
        "    model.add(Dropout(0.5))\n",
        "\n",
        "    # output dense layer\n",
        "    model.add(Dense(n_classes, activation='softmax'))\n",
        "\n",
        "    return model"
      ]
    },
    {
      "cell_type": "markdown",
      "metadata": {
        "id": "n9PpPDY8qs01"
      },
      "source": [
        "## Build CNN Model"
      ]
    },
    {
      "cell_type": "code",
      "execution_count": null,
      "metadata": {
        "id": "czNN4SAb0Lkl"
      },
      "outputs": [],
      "source": [
        "# build CNN model\n",
        "\n",
        "model = build_cnn_model_simple()\n",
        "#model = build_cnn_model_1()\n",
        "#model = build_cnn_model_2()"
      ]
    },
    {
      "cell_type": "markdown",
      "source": [
        "## Model simple training"
      ],
      "metadata": {
        "id": "WPuhw-vLsoPK"
      }
    },
    {
      "cell_type": "markdown",
      "metadata": {
        "id": "BiaVYiF-qzbu"
      },
      "source": [
        "### Compile CNN Model"
      ]
    },
    {
      "cell_type": "code",
      "execution_count": null,
      "metadata": {
        "id": "fgrcDFObz-C2"
      },
      "outputs": [],
      "source": [
        "# compile CNN model\n",
        "model.compile(optimizer = Adam(learning_rate=0.001),\n",
        "              #loss=tf.keras.losses.SparseCategoricalCrossentropy(from_logits=True),\n",
        "              loss = 'categorical_crossentropy',\n",
        "              metrics=['accuracy'])"
      ]
    },
    {
      "cell_type": "markdown",
      "metadata": {
        "id": "37Xjmb17q552"
      },
      "source": [
        "### Train CNN Model"
      ]
    },
    {
      "cell_type": "code",
      "execution_count": null,
      "metadata": {
        "id": "HdnIKNZn1gx-"
      },
      "outputs": [],
      "source": [
        "# CNN model training\n",
        "EPOCHS = int(input('EPOCHS: '))\n",
        "\n",
        "history = model.fit(\n",
        "                    train_data_gen,\n",
        "                    steps_per_epoch=int(np.ceil(train_data_gen.n / float(BATCH_SIZE))),\n",
        "                    epochs=EPOCHS,\n",
        "                    validation_data=val_data_gen,\n",
        "                    validation_steps=int(np.ceil(val_data_gen.n / float(BATCH_SIZE)))\n",
        "                    )"
      ]
    },
    {
      "cell_type": "markdown",
      "source": [
        "# TRANING FUNCTION"
      ],
      "metadata": {
        "id": "NpmUKjJ8kxsT"
      }
    },
    {
      "cell_type": "code",
      "source": [
        "# Compile model\n",
        "model.compile(optimizer = Adam(learning_rate=0.001),\n",
        "              loss = 'categorical_crossentropy',\n",
        "              metrics=['accuracy'])"
      ],
      "metadata": {
        "id": "AwmpKV5ytC8L"
      },
      "execution_count": null,
      "outputs": []
    },
    {
      "cell_type": "code",
      "source": [
        "# Training SETTINGS\n",
        "MODEL_SAVE_PATH = BASE_DIR\n",
        "MODEL_NAME = 'Plant_Pathology'"
      ],
      "metadata": {
        "id": "YUglA97RmRxp"
      },
      "execution_count": null,
      "outputs": []
    },
    {
      "cell_type": "code",
      "source": [
        "#from tensorflow.python.keras import callbacks\n",
        "def train_model(model, epochs, model_save_path=MODEL_SAVE_PATH, model_name=MODEL_NAME):\n",
        "    #\n",
        "    checkpoint_model_name = model_name + '_best.h5'\n",
        "    checkpoint_model_path = os.path.join(model_save_path, checkpoint_model_name)\n",
        "    checkpoint_model_best = tf.keras.callbacks.ModelCheckpoint(checkpoint_model_path,\n",
        "                                                               save_best_only=True)    \n",
        "    \n",
        "    #\n",
        "    checkpoint_model_name_erl = model_name + '_early_best.h5'\n",
        "    checkpoint_model_path_erl = os.path.join(model_save_path, checkpoint_model_name_erl) \n",
        "    checkpoint_model_best_erl = tf.keras.callbacks.ModelCheckpoint(checkpoint_model_path_erl,\n",
        "                                                                   save_best_only=True)   \n",
        "    \n",
        "    checkpoint_model_early = tf.keras.callbacks.EarlyStopping(patience=20,\n",
        "                                                              restore_best_weights=True)\n",
        "    \n",
        "    #\n",
        "    history = model.fit(train_data_gen,\n",
        "                        steps_per_epoch=int(np.ceil(train_data_gen.n / float(BATCH_SIZE))),\n",
        "                        epochs=epochs,\n",
        "                        validation_data=val_data_gen,\n",
        "                        validation_steps=int(np.ceil(val_data_gen.n / float(BATCH_SIZE))),\n",
        "                        callbacks=[checkpoint_model_best, checkpoint_model_early])\n",
        "    \n",
        "    return model, history"
      ],
      "metadata": {
        "id": "Vhrt7DeckxK5"
      },
      "execution_count": null,
      "outputs": []
    },
    {
      "cell_type": "code",
      "source": [
        "# load model"
      ],
      "metadata": {
        "id": "TOVPEMfX3gUa"
      },
      "execution_count": null,
      "outputs": []
    },
    {
      "cell_type": "code",
      "source": [
        "# Start traing function \n",
        "model, history = train_model(model, 150)"
      ],
      "metadata": {
        "colab": {
          "base_uri": "https://localhost:8080/"
        },
        "id": "jsckEkPeppXp",
        "outputId": "8b0fcc80-3e75-4568-e18a-61e79c4bdeed"
      },
      "execution_count": null,
      "outputs": [
        {
          "output_type": "stream",
          "name": "stdout",
          "text": [
            "Epoch 1/150\n",
            "47/47 [==============================] - 348s 7s/step - loss: 7.2382 - accuracy: 0.3516 - val_loss: 1.2127 - val_accuracy: 0.4476\n",
            "Epoch 2/150\n",
            "47/47 [==============================] - 378s 8s/step - loss: 1.1450 - accuracy: 0.4880 - val_loss: 1.1214 - val_accuracy: 0.4960\n",
            "Epoch 3/150\n",
            "47/47 [==============================] - 294s 6s/step - loss: 1.1289 - accuracy: 0.5000 - val_loss: 1.3084 - val_accuracy: 0.3992\n",
            "Epoch 4/150\n",
            "47/47 [==============================] - 362s 8s/step - loss: 1.1096 - accuracy: 0.5287 - val_loss: 1.0672 - val_accuracy: 0.5524\n",
            "Epoch 5/150\n",
            "47/47 [==============================] - 278s 6s/step - loss: 1.0569 - accuracy: 0.5307 - val_loss: 1.1151 - val_accuracy: 0.5081\n",
            "Epoch 6/150\n",
            "47/47 [==============================] - 284s 6s/step - loss: 1.0186 - accuracy: 0.5648 - val_loss: 1.1190 - val_accuracy: 0.5020\n",
            "Epoch 7/150\n",
            "10/47 [=====>........................] - ETA: 3:05 - loss: 0.9508 - accuracy: 0.6094"
          ]
        }
      ]
    },
    {
      "cell_type": "markdown",
      "metadata": {
        "id": "TfHJTOo8rQcI"
      },
      "source": [
        "# CNN Model training metrics"
      ]
    },
    {
      "cell_type": "code",
      "execution_count": null,
      "metadata": {
        "colab": {
          "base_uri": "https://localhost:8080/",
          "height": 281
        },
        "id": "CpHl3CQY4S2t",
        "outputId": "c7961a87-8d83-4300-c7f5-00679f740fb7"
      },
      "outputs": [
        {
          "output_type": "display_data",
          "data": {
            "image/png": "[encoded data removed]",
            "text/plain": [
              "<Figure size 432x288 with 1 Axes>"
            ]
          },
          "metadata": {
            "needs_background": "light"
          }
        }
      ],
      "source": [
        "# Model training metrics: \"loss\" and \"accuracy\".\n",
        "\n",
        "accuracy = history.history['accuracy']\n",
        "val_accuracy = history.history['val_accuracy']\n",
        "loss = history.history['loss']\n",
        "val_loss = history.history['val_loss']\n",
        "\n",
        "epochs = range(1, len(accuracy) + 1)\n",
        "\n",
        "# Train and validation accuracy.\n",
        "plt.plot(epochs, accuracy, 'b', label='Training accuracy')\n",
        "plt.plot(epochs, val_accuracy, 'r', label='Validation accuracy')\n",
        "plt.grid(True)\n",
        "plt.title('Training and Validation accuracy')\n",
        "plt.legend();"
      ]
    },
    {
      "cell_type": "code",
      "execution_count": null,
      "metadata": {
        "colab": {
          "base_uri": "https://localhost:8080/",
          "height": 281
        },
        "id": "b6HX489IEZvf",
        "outputId": "a656d1a3-c48a-4c30-b409-014c4a2473fa"
      },
      "outputs": [
        {
          "output_type": "display_data",
          "data": {
            "image/png": "[encoded data removed]",
            "text/plain": [
              "<Figure size 432x288 with 1 Axes>"
            ]
          },
          "metadata": {
            "needs_background": "light"
          }
        }
      ],
      "source": [
        "# Train and validation loss.\n",
        "plt.plot(epochs, loss, 'b', label='Training loss')\n",
        "plt.plot(epochs, val_loss, 'r', label='Validation loss')\n",
        "plt.grid(True)\n",
        "plt.title('Training and Validation loss')\n",
        "plt.legend();"
      ]
    },
    {
      "cell_type": "markdown",
      "metadata": {
        "id": "XuSC3Y8pr1dG"
      },
      "source": [
        "# Test Image Data Generator"
      ]
    },
    {
      "cell_type": "code",
      "execution_count": 19,
      "metadata": {
        "colab": {
          "base_uri": "https://localhost:8080/"
        },
        "id": "IJSy_mYoApxn",
        "outputId": "77f962e3-71c4-4903-f2b8-b176fc6435e9"
      },
      "outputs": [
        {
          "output_type": "stream",
          "name": "stdout",
          "text": [
            "Found 496 images belonging to 4 classes.\n"
          ]
        }
      ],
      "source": [
        "# test data generator\n",
        "test_dir = os.path.join(BASE_DIR, 'test')\n",
        "image_gen_test = ImageDataGenerator(rescale=1./255)\n",
        "\n",
        "test_data_gen = image_gen_val.flow_from_directory(batch_size=BATCH_SIZE,\n",
        "                                                 directory=test_dir,\n",
        "                                                 target_size=(IMG_SHAPE, IMG_SHAPE),\n",
        "                                                 class_mode='categorical')"
      ]
    },
    {
      "cell_type": "markdown",
      "metadata": {
        "id": "GOPD9CnYr-QD"
      },
      "source": [
        "# Model score"
      ]
    },
    {
      "cell_type": "code",
      "execution_count": 20,
      "metadata": {
        "colab": {
          "base_uri": "https://localhost:8080/"
        },
        "id": "69Wd4LUe5jSV",
        "outputId": "5f9b01e1-4b57-4806-9520-62fc60e62f98"
      },
      "outputs": [
        {
          "output_type": "stream",
          "name": "stdout",
          "text": [
            "[INFO] Calculating model accuracy...\n",
            "16/16 [==============================] - 90s 6s/step - loss: 0.2933 - accuracy: 0.9153\n",
            "\n",
            "###########################\n",
            "## Test Accuracy: 91.53% ##\n",
            "###########################\n"
          ]
        }
      ],
      "source": [
        "# Model evaluation\n",
        "print('[INFO] Calculating model accuracy...')\n",
        "\n",
        "#scores = model.evaluate(X_test, Y_test)\n",
        "scores = model.evaluate(test_data_gen)\n",
        "model_score = round(scores[1]*100, 2)\n",
        "model_score_int = int(scores[1]*100)\n",
        "\n",
        "print('\\n###########################')\n",
        "print('## Test Accuracy: {:.4}% ##'.format(scores[1]*100))\n",
        "print('###########################')"
      ]
    },
    {
      "cell_type": "markdown",
      "metadata": {
        "id": "GpLsEAQdscuW"
      },
      "source": [
        "# Create test data set"
      ]
    },
    {
      "cell_type": "code",
      "execution_count": 22,
      "metadata": {
        "id": "P3SlLWHlapbD"
      },
      "outputs": [],
      "source": [
        "# dictionary with keys - \"text label\" and values - \"numerical label\"\n",
        "label_dict = {'healthy': 0, 'multiD': 1, 'rust': 2, 'scab': 3}"
      ]
    },
    {
      "cell_type": "code",
      "execution_count": 23,
      "metadata": {
        "id": "n4T0MFCFNAwa"
      },
      "outputs": [],
      "source": [
        "#\n",
        "def create_test_data(test_data_path=test_dir):   \n",
        "    new_dataset_imgs = []\n",
        "    new_dataset_labels = []\n",
        "    for folder in os.listdir(test_data_path):\n",
        "        folder_path = os.path.join(test_data_path, folder)\n",
        "        for test_img in os.listdir(folder_path):\n",
        "            test_img_path = os.path.join(folder_path, test_img)\n",
        "            test_img_text_label = test_img[:-4].split(\"_\")[1]\n",
        "            \n",
        "            #test_img_dummy_label = create_dummy_vector(test_img_text_label)\n",
        "            \n",
        "            test_img_num_label = label_dict[test_img_text_label]\n",
        "            test_image = image.load_img(test_img_path, target_size=(150, 150))\n",
        "            test_image_array = tf.keras.preprocessing.image.img_to_array(test_image)\n",
        "            test_image_array = test_image_array / 255\n",
        "            \n",
        "            new_dataset_imgs.append(test_image_array)\n",
        "            #new_dataset_labels.append(test_img_dummy_label)\n",
        "            new_dataset_labels.append(test_img_num_label)\n",
        "    \n",
        "    return np.array(new_dataset_imgs), np.array(new_dataset_labels)"
      ]
    },
    {
      "cell_type": "code",
      "execution_count": 24,
      "metadata": {
        "id": "XLiS_ggQeQxY"
      },
      "outputs": [],
      "source": [
        "# create test data as numpy arrays\n",
        "X, Y = create_test_data()"
      ]
    },
    {
      "cell_type": "code",
      "execution_count": 25,
      "metadata": {
        "id": "VHYcm78OdjiY"
      },
      "outputs": [],
      "source": [
        "# stratify, shuffle and concatenate test data set\n",
        "X_part1, X_part2, Y_part1, Y_part2 = train_test_split(X, Y, test_size=0.2, stratify=Y, shuffle=True)\n",
        "X_test = np.concatenate((X_part1, X_part2))\n",
        "Y_test = np.concatenate((Y_part1, Y_part2))"
      ]
    },
    {
      "cell_type": "markdown",
      "metadata": {
        "id": "g8wvunEgs1ve"
      },
      "source": [
        "# LOAD MODEL"
      ]
    },
    {
      "cell_type": "code",
      "execution_count": 18,
      "metadata": {
        "id": "xta1JH94Zmoz"
      },
      "outputs": [],
      "source": [
        "# load model\n",
        "MODEL_NAME = 'Plant_Pathology_best_model_1_90_acc.h5'\n",
        "\n",
        "#model_path = os.path.join(BASE_DIR, MODEL_NAME)\n",
        "model_path = '/content/drive/MyDrive/Projects/PlantPathology_CNN_Project/plant_pathology_class_model_1_accuracy_92.h5'\n",
        "model = tf.keras.models.load_model(model_path)"
      ]
    },
    {
      "cell_type": "markdown",
      "metadata": {
        "id": "bH2bSdNgtBQo"
      },
      "source": [
        "# Confusion Matrix Display"
      ]
    },
    {
      "cell_type": "code",
      "execution_count": 26,
      "metadata": {
        "id": "mJi_WyB6E49P"
      },
      "outputs": [],
      "source": [
        "# label vector with class probabilities\n",
        "Y_prob = model.predict(X_test)"
      ]
    },
    {
      "cell_type": "code",
      "execution_count": 27,
      "metadata": {
        "id": "xrxgd1pnfeG4"
      },
      "outputs": [],
      "source": [
        "# label vector with numerical class label\n",
        "Y_pred = np.argmax(Y_prob, axis=1)"
      ]
    },
    {
      "cell_type": "code",
      "execution_count": null,
      "metadata": {
        "id": "fbwaYKt-7f4d"
      },
      "outputs": [],
      "source": [
        "#confusion_matrix(Y_test, Y_pred)"
      ]
    },
    {
      "cell_type": "code",
      "execution_count": 28,
      "metadata": {
        "colab": {
          "base_uri": "https://localhost:8080/",
          "height": 295
        },
        "id": "PDhTL_eYrfsh",
        "outputId": "d11a359d-2d32-4426-b1f2-2b7662a42f46"
      },
      "outputs": [
        {
          "output_type": "display_data",
          "data": {
            "text/plain": [
              "<Figure size 432x288 with 2 Axes>"
            ],
            "image/png": "[encoded data removed]"
          },
          "metadata": {
            "needs_background": "light"
          }
        }
      ],
      "source": [
        "# display confusion matrix\n",
        "ConfusionMatrixDisplay.from_predictions(Y_test, Y_pred)\n",
        "plt.title('ConfusionMatrix')\n",
        "plt.show();"
      ]
    },
    {
      "cell_type": "markdown",
      "metadata": {
        "id": "pCRdyepWtNk_"
      },
      "source": [
        "# SAVE MODEL"
      ]
    },
    {
      "cell_type": "code",
      "execution_count": 29,
      "metadata": {
        "colab": {
          "base_uri": "https://localhost:8080/"
        },
        "id": "voUMPR5u8J81",
        "outputId": "4733b749-0600-40aa-eb3c-92a522469f83"
      },
      "outputs": [
        {
          "output_type": "stream",
          "name": "stdout",
          "text": [
            "[INFO] Saving model...\n",
            "\n",
            "Model name:  plant_pathology_image_recognition_model_accuracy_91_.h5\n",
            "Model path:  /content/drive/MyDrive/Datasets/Plant Pathology 2020 - FGVC7/images/splited_dataset/plant_pathology_image_recognition_model_accuracy_91_.h5\n",
            "\n",
            "Model Saved !!!\n"
          ]
        }
      ],
      "source": [
        "# model file name\n",
        "MODEL_NAME = 'plant_pathology_image_recognition_model'\n",
        "\n",
        "model_name = MODEL_NAME + '_accuracy_' + str(model_score_int) + '_.h5'\n",
        "\n",
        "# save the model to disk\n",
        "print(\"[INFO] Saving model...\")\n",
        "path_to_save_model = os.path.join(BASE_DIR, model_name)\n",
        "model.save(path_to_save_model)\n",
        "print(\"\\nModel name: \", model_name)\n",
        "print(\"Model path: \", path_to_save_model)\n",
        "print(\"\\nModel Saved !!!\")"
      ]
    }
  ],
  "metadata": {
    "colab": {
      "collapsed_sections": [
        "WPuhw-vLsoPK"
      ],
      "name": "CNN_Plant_Pathology_unbalanced.ipynb",
      "provenance": [],
      "mount_file_id": "1zTNevOFw-28wRjW8xTBiaDGdBf8yKAv_",
      "authorship_tag": "ABX9TyMbQ6dRsP4pbBurPDyHao2q",
      "include_colab_link": true
    },
    "kernelspec": {
      "display_name": "Python 3",
      "name": "python3"
    },
    "language_info": {
      "name": "python"
    }
  },
  "nbformat": 4,
  "nbformat_minor": 0
}